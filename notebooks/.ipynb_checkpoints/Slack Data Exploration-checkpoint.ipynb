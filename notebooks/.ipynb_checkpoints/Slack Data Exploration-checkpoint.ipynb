{
 "cells": [
  {
   "cell_type": "markdown",
   "metadata": {},
   "source": [
    "# Slack Data Exploration"
   ]
  },
  {
   "cell_type": "markdown",
   "metadata": {},
   "source": [
    "My first goal for the dataset is to run K-means clustering algorithm and see if any specific trends or topics arise. Also, this will allow us to see if groups of similar words will contribute to any kind of topic that can be automatically extracted from the given dataset. TODO refine this explanation"
   ]
  },
  {
   "cell_type": "markdown",
   "metadata": {},
   "source": [
    "## Data Creation"
   ]
  },
  {
   "cell_type": "markdown",
   "metadata": {},
   "source": [
    "I want to have a text file where each line is a message sent by a user. For now, I will ignore the channel and user information that the exported data provides."
   ]
  },
  {
   "cell_type": "markdown",
   "metadata": {},
   "source": [
    "First import the required packages for data creation."
   ]
  },
  {
   "cell_type": "code",
   "execution_count": 1,
   "metadata": {},
   "outputs": [],
   "source": [
    "import json\n",
    "import os\n",
    "import re\n",
    "\n",
    "import numpy as np\n",
    "import pandas as pd"
   ]
  },
  {
   "cell_type": "markdown",
   "metadata": {},
   "source": [
    "Assuming the existance of directiories containing *.json* files, I will visit each directory and add each json object to a list."
   ]
  },
  {
   "cell_type": "code",
   "execution_count": 2,
   "metadata": {},
   "outputs": [],
   "source": [
    "json_li = []\n",
    "\n",
    "outer_dir = \"../data\"\n",
    "directories = [\"general\", \"dev\", \"ai\", \"marketresearch\", \"random\", \"sales-gamification\"]\n",
    "for directory in directories:\n",
    "\tpath = os.path.join(outer_dir, directory)\n",
    "\tfor filename in os.listdir(path):\n",
    "\t\tif filename.endswith(\".json\"):\n",
    "\t\t\tfp = open(os.path.join(path, filename))\n",
    "\t\t\tjson_li.append(json.load(fp))"
   ]
  },
  {
   "cell_type": "markdown",
   "metadata": {},
   "source": [
    "Now I will create a new file for the output of the text."
   ]
  },
  {
   "cell_type": "code",
   "execution_count": 4,
   "metadata": {},
   "outputs": [],
   "source": [
    "data_fp = open('../data/general_text.txt', 'w+')"
   ]
  },
  {
   "cell_type": "raw",
   "metadata": {},
   "source": [
    "Finally, the text of the messages is saved in a \"text\" tag of the json objects. I will extract them and write to the new file. At the same time, I will do a small bit of preprocessing and remove any urls or links withe regex."
   ]
  },
  {
   "cell_type": "code",
   "execution_count": 5,
   "metadata": {},
   "outputs": [],
   "source": [
    "for json_obj in json_li:\n",
    "\tfor message in json_obj:\n",
    "\t\tmessage['text'] = re.sub(r'<(.)*>', '', message['text'], flags=re.MULTILINE)\n",
    "\t\tdata_fp.write(message['text'])\n",
    "\t\tdata_fp.write(\"\\n\")\n",
    "data_fp.close()"
   ]
  },
  {
   "cell_type": "markdown",
   "metadata": {},
   "source": [
    "## Preprocessing"
   ]
  },
  {
   "cell_type": "markdown",
   "metadata": {},
   "source": [
    "I want to prepare the data through the use of lemmatizing and stemming. The packages needed are as follows:"
   ]
  },
  {
   "cell_type": "code",
   "execution_count": 6,
   "metadata": {},
   "outputs": [],
   "source": [
    "import gensim\n",
    "from gensim.utils import simple_preprocess\n",
    "from gensim.parsing.preprocessing import STOPWORDS\n",
    "from nltk.stem import WordNetLemmatizer, SnowballStemmer\n",
    "from nltk.stem.porter import *\n",
    "import nltk"
   ]
  },
  {
   "cell_type": "markdown",
   "metadata": {},
   "source": [
    "In order to perform stemming and lemmatization, I need to install 'wordnet' from the nltk website. A built in downloader is provided but I needed to add the following code to get it to work:"
   ]
  },
  {
   "cell_type": "code",
   "execution_count": 7,
   "metadata": {},
   "outputs": [
    {
     "name": "stderr",
     "output_type": "stream",
     "text": [
      "[nltk_data] Downloading package wordnet to\n",
      "[nltk_data]     /Users/JoeSkimmons/nltk_data...\n",
      "[nltk_data]   Package wordnet is already up-to-date!\n",
      "[nltk_data] Downloading package punkt to\n",
      "[nltk_data]     /Users/JoeSkimmons/nltk_data...\n",
      "[nltk_data]   Package punkt is already up-to-date!\n"
     ]
    },
    {
     "data": {
      "text/plain": [
       "True"
      ]
     },
     "execution_count": 7,
     "metadata": {},
     "output_type": "execute_result"
    }
   ],
   "source": [
    "import ssl\n",
    "\n",
    "try:\n",
    "    _create_unverified_https_context = ssl._create_unverified_context\n",
    "except AttributeError:\n",
    "    pass\n",
    "else:\n",
    "    ssl._create_default_https_context = _create_unverified_https_context\n",
    "\n",
    "nltk.download('wordnet')\n",
    "nltk.download('punkt')"
   ]
  },
  {
   "cell_type": "markdown",
   "metadata": {},
   "source": [
    "Stemming and lemmatizing are aimed to reduce words to inflectional forms and sometimes derivationally related forms of a word to a common base form.\n",
    "\n",
    "( For more information I used this resource: https://nlp.stanford.edu/IR-book/html/htmledition/stemming-and-lemmatization-1.html )\n",
    "\n",
    "Now I will create a \"stemmer\" using the nltk package and define two functions to perform the bulk of our preprocessing."
   ]
  },
  {
   "cell_type": "code",
   "execution_count": 9,
   "metadata": {},
   "outputs": [],
   "source": [
    "stemmer = SnowballStemmer(\"english\")\n",
    "\n",
    "def lemmatize_stemming(text):\n",
    "    return stemmer.stem(WordNetLemmatizer().lemmatize(text, pos='v'))\n",
    "\n",
    "# Tokenize and lemmatize\n",
    "def preprocess(text):\n",
    "    result=[]\n",
    "    for token in gensim.utils.simple_preprocess(text) :\n",
    "        if token not in gensim.parsing.preprocessing.STOPWORDS and len(token) > 3:\n",
    "            result.append(lemmatize_stemming(token))\n",
    "            \n",
    "    return result"
   ]
  },
  {
   "cell_type": "markdown",
   "metadata": {},
   "source": [
    "These two functions will remove stopwords, remove words length 3 or less, and convert all words to lowercase before stemming and lemmatizing each word.\n",
    "\n",
    "preprocess(text) will return a list of the reduced message.\n",
    "\n",
    "Now I can get a list of the messages in their reduced form with the following:"
   ]
  },
  {
   "cell_type": "code",
   "execution_count": 14,
   "metadata": {},
   "outputs": [
    {
     "name": "stdout",
     "output_type": "stream",
     "text": [
      "[['background', 'slide', 'evolut', 'idea'], ['think', 'right'], ['hour', 'problem', 'solut'], ['plan', 'minut', 'hour', 'revis', 'speak', 'today', 'interest', 'talk', 'product', 'user'], ['give', 'good', 'advic', 'shruti', 'say'], ['list', 'serv', 'columbia', 'ventur', 'capit', 'recommend', 'reach'], ['case', 'question', 'guy', 'experi', 'employ', 'want', 'employe', 'know', 'youv', 'work'], ['person', 'havent', 'preval'], ['employe', 'compani'], ['visibl', 'option', 'post'], ['idea'], ['satisfi', 'confidenti', 'requir'], ['depart', 'want', 'know', 'work'], ['put', 'fee', 'look', 'like', 'mess'], ['true'], ['form', 'group'], ['think', 'connect', 'linkedin', 'probabl', 'connect', 'boss', 'meaningless', 'connect', 'network'], ['mayb', 'connect', 'network', 'work', 'like', 'give', 'visibl', 'permiss', 'peopl', 'connect'], ['sure'], ['think', 'better', 'superior', 'form', 'group', 'want', 'group', 'fee'], ['exampl', 'compani', 'group'], ['group', 'customiz', 'superior'], ['dont', 'think', 'like', 'linkedin', 'intern', 'social', 'twitter', 'fee', 'format', 'peopl', 'group', 'work', 'peopl', 'accomplish', 'post', 'receiv', 'feedback', 'smiley', 'face', 'linkedin', 'extern', 'network', 'base', 'speak', 'there', 'intra', 'compani', 'engag'], ['think', 'auto', 'generat', 'post', 'import', 'differenti', 'social', 'media', 'sit'], ['past', 'summer', 'work', 'place', 'employe', 'yammer', 'main', 'like', 'facebook', 'work', 'relat', 'thing'], ['question', 'extent'], ['focus', 'work', 'relat', 'topic', 'differenti'], ['angl', 'closer', 'intern', 'linkedin', 'think', 'encourag', 'transpar', 'compani', 'network', 'employe'], ['yeah', 'exact'], ['mean', 'technolog', 'today'], ['auto', 'post', 'like', 'self', 'stimul', 'social', 'media', 'depend', 'user', 'creat', 'content'], ['kinda', 'unrel', 'aspect', 'peopl', 'twitter', 'harder', 'linkedin', 'googl', 'separ', 'meme', 'platform', 'peopl', 'meme', 'work', 'relat', 'stuff', 'separ', 'channel', 'hashtag', 'work', 'work', 'post'], ['guess', 'make', 'avail', 'differ', 'depart', 'compani', 'provid', 'meaning', 'depth', 'inform', 'challeng'], ['mean', 'like', 'whatd', 'use', 'doabl', 'autom', 'phone', 'email', 'autom', 'easi'], ['autom', 'task', 'complet', 'possibl', 'suppos', 'submit', 'task'], ['automat', 'updat', 'fee'], ['that', 'true', 'rachel'], ['like', 'think', 'user', 'draft', 'task', 'list', 'check', 'post', 'post'], ['user', 'chanc', 'turn'], ['line', 'employe', 'engag', 'show', 'import', 'engag', 'score', 'kind', 'sentiment', 'employe', 'respect', 'post', 'stuff', 'inform', 'manag'], ['sound', 'cool'], ['exampl', 'social', 'stimul', 'doesnt', 'depen', 'user', 'content'], ['think', 'platform', 'automat', 'generat', 'post', 'base', 'like', 'ryan', 'describ', 'instead', 'reli', 'user', 'creat', 'post'], ['mintyy', 'content', 'employe', 'manag'], ['accur', 'look', 'engag', 'level'], ['vlociti'], ['interest', 'market', 'strategi', 'broad', 'base', 'approach', 'soon', 'billion', 'worldwid', 'market', 'startup', 'wise', 'choos', 'target', 'hand', 'lucrat', 'vertic', 'like', 'communic', 'media', 'insur', 'financi', 'servic', 'health', 'energi', 'util', 'govern', 'nonprofit', 'market', 'strategi', 'net', 'custom', 'like', 'metlif', 'telefort', 'wellcar', 'british', 'automot', 'roger', 'mobil', 'telus', 'farmer', 'insur', 'telia', 'cigna', 'allstat', 'liberti', 'mutual', 'claro', 'dozen'], ['price', 'think', 'user', 'month', 'expens', 'person', 'compani', 'month', 'intern', 'network', 'crms', 'market', 'autom', 'softwar', 'month', 'follow', 'slack', 'price', 'model', 'free', 'limit', 'featur', 'activ', 'user', 'month', 'group', 'call', 'confer', 'featur', 'activ', 'user', 'month', 'unlimit', 'messag', 'search', 'featur', 'enterpris', 'grid', 'larg', 'compani', 'price', 'list', 'websit', 'number', 'present', 'today'], ['sound', 'good'], ['sound', 'good', 'updat', 'slide'], ['yammer', 'competitor', 'price', 'month', 'read', 'price', 'make', 'sens'], ['free', 'version', 'limit', 'level', 'number', 'group'], ['advanc', 'version', 'data', 'analysi', 'function', 'aggreg', 'employe', 'perform', 'manag', 'refer'], ['consist', 'font', 'slide', 'right', 'thought', 'georgia'], ['consist', 'bullet', 'dash', 'structur', 'slide'], ['go', 'georgia', 'bodi', 'font'], ['raleway', 'titl'], ['lato', 'bodi', 'want', 'san', 'serif'], ['sound', 'good'], ['go', 'task', 'report', 'rout', 'potenti', 'featur', 'employe', 'creat', 'task', 'updat', 'progress', 'task', 'updat', 'similar', 'social', 'fee', 'linear', 'format', 'like', 'fee', 'task'], ['go', 'direct', 'think', 'throw'], ['individu', 'task'], ['get', 'librari', 'meet', 'soon'], ['guy', 'work', 'meet'], ['outsid', 'classroom'], ['justin', 'think', 'task', 'report', 'great', 'peopl', 'think', 'trello', 'integr', 'task', 'manag', 'app', 'live', 'fee', 'updat'], ['class', 'end', 'mudd', 'earli', 'meet', 'outsid', 'classroom', 'feel', 'free', 'meet', 'present'], ['present', 'today', 'guest', 'lectur'], ['true', 'wonder', 'volunt', 'present', 'pick'], ['sound', 'good', 'campus', 'meet', 'outsid', 'classroom'], ['think', 'time', 'effici'], ['sound', 'good', 'train', 'station', 'back', 'delay', 'hope', 'min', 'earli'], ['logo', 'slide', 'includ', 'present', 'like'], ['like', 'think', 'includ'], ['train', 'worst'], ['logo', 'look', 'good'], ['slide', 'look', 'good', 'sure', 'add', 'stick', 'class', 'soon', 'possibl'], ['train', 'rerout', 'look', 'late'], ['mintyy'], ['team', 'solid', 'attend'], ['whohoo'], ['nightmar', 'fail', 'class'], ['end', 'start', 'master'], ['chronic'], ['mayb', 'direct', 'caus', 'recov'], ['immun'], ['start', 'attend', 'sheet', 'week'], ['hope', 'lectur'], ['week'], ['futur', 'week'], ['sign', 'lectur'], ['good', 'know', 'person', 'go', 'sheet', 'sign', 'guess', 'call', 'provoc'], ['miss', 'class', 'time', 'sheet'], ['half', 'expect', 'leav', 'haha'], ['expect', 'like', 'guess', 'come'], ['share', 'pitch', 'link', 'place', 'request', 'share'], ['sorri', 'quick', 'goodby', 'friend', 'haven', 'see', 'grin'], ['share'], ['problem', 'yeah', 'share', 'asap'], ['link', 'googl', 'form', 'expect', 'document', 'think', 'suppos', 'person', 'team', 'know', 'read', 'form'], ['updat', 'semest', 'week', 'term', 'creat', 'mockup', 'reach', 'peopl', 'industri', 'specif', 'term', 'social', 'fee', 'aspect', 'differenti', 'market', 'research'], ['ethan', 'team', 'leader'], ['yeah', 'sign', 'lead', 'contact'], ['submit'], ['submit', 'pitch', 'deck', 'link', 'work', 'today', 'pitch', 'folder'], ['sure', 'fine', 'submit', 'twice'], ['long', 'submit'], ['think', 'short', 'meet', 'week'], ['hangout', 'meet'], ['post', 'link'], ['todo'], ['reorgan', 'chang', 'slide', 'round', 'market', 'research'], ['mockup', 'wirefram', 'sketch'], ['quick', 'recap', 'meet', 'miss', 'thing', 'ryan', 'discov', 'tencent', 'develop', 'enterpris', 'social', 'network', 'slack', 'websit', 'similar', 'moma', 'modern', 'theme', 'harvard', 'busi', 'review', 'link', 'good', 'stat', 'employe', 'engag', 'person', 'come', 'sketch', 'envis', 'product', 'look', 'like', 'necessari', 'compon', 'need', 'question', 'enterpris', 'social', 'network', 'last', 'meet', 'tuesday', 'class'], ['think', 'scientist', 'introduc', 'enterpris', 'social', 'network', 'mention', 'experi', 'develop', 'similar', 'network', 'militari', 'help', 'certain', 'peopl', 'desir', 'experi'], ['think', 'transpar', 'find', 'right', 'person', 'common', 'problem', 'organ'], ['thank', 'recap', 'apolog', 'sortv', 'go', 'hibern', 'miss', 'event', 'remind', 'sound', 'good', 'work', 'mockup'], ['shruti', 'slide', 'onlin'], ['tri', 'pitch', 'deck', 'info'], ['think', 'piazza', 'resourc'], ['cool', 'class', 'note', 'disappoint'], ['think', 'ax', 'price', 'autom'], ['autom', 'gameif'], ['problem', 'solut', 'product', 'demo', 'market', 'size', 'busi', 'model', 'competit', 'underli', 'magic', 'market', 'team', 'traction', 'mileston', 'fundrais', 'inform'], ['remind', 'today', 'daylight', 'save', 'meet', 'minut', 'split', 'pitch', 'deck'], ['meet', 'link'], ['engag', 'gameif'], ['exampl', 'browser', 'extens', 'profil', 'base'], ['user', 'stori', 'inform', 'work'], ['add', 'accompani', 'acquir', 'cisco', 'competitor', 'analysi', 'document', 'like', 'discuss', 'collect', 'inform', 'compani', 'ceo', 'sell'], ['know', 'accompani', 'didnt', 'know', 'cisco', 'acquir'], ['know', 'professor', 'mention', 'compani'], ['coupl', 'user', 'stori', 'pitch', 'slide', 'go', 'revis', 'guy', 'think', 'play', 'coupl', 'idea'], ['question', 'excit', 'market', 'research', 'mean', 'exact', 'keep'], ['peopl', 'ask', 'featur', 'excit', 'mockup', 'general', 'respond', 'social', 'aspect'], ['thank', 'clarifi', 'think', 'keep'], ['base', 'instead'], ['chang', 'base', 'thank', 'advic'], ['idea'], ['like', 'ethan', 'home', 'view', 'separ', 'function', 'event', 'work', 'social'], ['apolog', 'handwrit', 'ignor', 'interfac', 'look', 'compil', 'potenti', 'featur'], ['go', 'present', 'today', 'cut', 'hair', 'late'], ['pres', 'today', 'guest', 'speaker', 'lectur'], ['meet', 'minut', 'class', 'today', 'meet'], ['think', 'today', 'go', 'come', 'explain', 'come', 'shouldn', 'long'], ['role', 'come', 'mark', 'ryan', 'later', 'present', 'dead'], ['uni'], ['thank'], ['legal', 'runda'], ['html', 'version', 'mockup', 'friday', 'midnight', 'latest', 'modifi', 'meantim', 'think', 'start', 'ask', 'develop', 'softwar', 'engin', 'want', 'feedback', 'saturday', 'avail'], ['saturday', 'bacchan', 'think'], ['sunday', 'possibl'], ['yeah', 'forget', 'sunday'], ['perfect'], ['sound', 'good'], ['sunday', 'good', 'small', 'chanc', 'saturday', 'sound', 'like'], ['ask', 'salari', 'class', 'shoot', 'googl', 'startup', 'salari', 'googl', 'say'], ['post', 'piazza', 'know', 'miss'], ['draft', 'email', 'sens'], ['columbia', 'student', 'team', 'work', 'product', 'easier', 'sdrs', 'reach', 'peopl', 'organ', 'contact', 'seek', 'advic', 'potenti', 'custom', 'like', 'look', 'pitch', 'attach', 'interest', 'like', 'share', 'thought', 'thank'], ['sincer'], ['like', 'look', 'pitch', 'attach', 'reword', 'statement', 'like', 'line', 'attach', 'pitch', 'like', 'look'], ['better', 'frame', 'product', 'second', 'sentenc', 'everyon', 'thought', 'sentenc'], ['edit', 'tonight', 'repli', 'littl', 'busi', 'right', 'passiv', 'voic'], ['admit', 'strong', 'opinion', 'stuff', 'like', 'offend'], ['thank', 'advic'], ['actual', 'help', 'tone', 'phrase', 'tricki', 'hard', 'googl', 'learn'], ['feel', 'free', 'tell', 'express', 'inappropri', 'improv'], ['second', 'sentenc', 'think', 'better', 'phrase', 'target', 'pain', 'point'], ['thought', 'complet', 'correspond', 'mockup', 'better', 'lead', 'manag', 'enhanc', 'autom', 'reach', 'follow', 'custom', 'inform', 'collect', 'analysi'], ['think', 'post', 'piazza', 'find', 'help', 'clear', 'thing'], ['like', 'email', 'student', 'columbia', 'univers', 'class', 'build', 'technolog', 'startup', 'team', 'work', 'product', 'improv', 'organ', 'custom', 'interact', 'sale', 'develop', 'repres', 'sdrs', 'like', 'discuss', 'idea', 'summar', 'attach', 'document', 'thank'], ['subject', 'chang'], ['look', 'good'], ['preliminari', 'research', 'potenti', 'competitor', 'stand', 'similar', 'idea', 'product', 'saleshack', 'featur', 'pretti', 'close', 'attent'], ['look', 'competit', 'analysi', 'outreach', 'acquir', 'saleshack', 'month'], ['avail', 'meet', 'help', 'assembl', 'pitch', 'deck', 'start', 'get', 'environ', 'setup', 'saturday'], ['earlier', 'better', 'look', 'call', 'today', 'updat', 'drive', 'accord'], ['probabl'], ['call'], ['tomorrow'], ['come', 'visit', 'later'], ['work', 'homework', 'today', 'tomorrow', 'want', 'reserv', 'room', 'tomorrow'], ['basic', 'avail', 'saturday', 'need', 'time', 'midtown'], ['saturday', 'reserv', 'butler', 'unfortun', 'avail', 'need', 'scienc', 'engin', 'librari', 'room', 'friday', 'reserv', 'scienc', 'engin', 'librari', 'room', 'want'], ['meet', 'saturday', 'butler'], ['thank', 'reserv', 'work'], ['alright', 'hope', 'secur', 'let'], ['pitch', 'deck', 'good', 'summari', 'decid', 'product', 'imag', 'diagram', 'sure', 'need', 'right', 'definit', 'diagram', 'narrow', 'market', 'competitor'], ['email', 'tonight'], ['connect', 'come', 'goldman', 'sach', 'need', 'rough', 'draft', 'descript', 'slide', 'request', 'draft', 'weekend', 'weekend', 'start', 'get', 'environ', 'know', 'latest', 'credit'], ['educ', 'account', 'credit', 'cloud', 'comput', 'data', 'class'], ['go', 'tonight', 'need', 'credit'], ['professor', 'mention', 'need', 'credit', 'multipl', 'account'], ['mention', 'alia', 'account'], ['rough', 'draft', 'compani', 'overview', 'drive', 'folder', 'sourc', 'sale', 'stat', 'sell', 'power', 'hubspot', 'salesforc', 'competitor', 'look', 'insight', 'squar', 'accord', 'sheila', 'gulati'], ['need', 'credit'], ['instanc', 'setup', 'cross', 'account', 'doubt', 'transfer', 'free', 'credit', 'account'], ['thank', 'rachel', 'check', 'put', 'intro'], ['think', 'manual', 'migrat', 'server', 'need'], ['detail', 'report', 'startup', 'sale', 'stack', 'report', 'individu', 'contributor', 'sale', 'technolog', 'folder', 'good', 'competit', 'analysi', 'market', 'trend'], ['meet', 'sunday', 'assembl', 'pitch', 'deck', 'revis', 'final', 'meet', 'remot', 'prefer'], ['sunday', 'work'], ['thought'], ['agre', 'delet', 'slide', 'minor', 'word', 'correct', 'shorten', 'phrase'], ['copi', 'enterpris', 'softwar', 'network', 'pitch', 'file'], ['leav', 'origin', 'unmodifi', 'suppos', 'submit'], ['want', 'feedback', 'receiv', 'recent', 'emphas', 'solv', 'softwar', 'problem', 'busi', 'problem', 'say', 'salesforc', 'configur', 'report', 'incentiv', 'employe', 'say', 'chang', 'industri', 'particip', 'think', 'hard', 'know', 'pivot', 'think', 'idea', 'stand'], ['efront', 'use', 'yammer', 'acquir', 'worri', 'info', 'public'], ['sick', 'class', 'today'], ['feel', 'better'], ['hope', 'soon'], ['rachel', 'note', 'googl', 'drive', 'class', 'import', 'point', 'detail', 'go', 'pitch', 'deck', 'look'], ['say', 'midterm', 'mileston', 'pitch', 'deck'], ['syllabus', 'look', 'like', 'march'], ['evid', 'salesforc', 'write', 'sell', 'updat', 'infrastructur', 'cassandra', 'kafka', 'spark', 'mongodb', 'zookeep', 'redi', 'ignit', 'ton', 'tech'], ['bet', 'salesforc', 'code', 'legaci', 'point', 'differenti', 'sell'], ['hard', 'argu', 'guess', 'technic', 'cloud', 'base'], ['land', 'california', 'good', 'spring', 'break', 'work', 'reach', 'peopl', 'day', 'materi', 'updat', 'demo', 'video', 'pitch', 'deck', 'meet', 'sunday', 'hangout'], ['sorri', 'late', 'respons', 'sure', 'need'], ['problem', 'end', 'form', 'night', 'good'], ['meet', 'start', 'min', 'link'], ['run', 'late', 'asap'], ['join'], ['laptop', 'video', 'sorri'], ['discuss', 'note'], ['post', 'salesforc', 'note', 'drive', 'mintyy', 'compil', 'note', 'salesforc', 'note', 'hop', 'readabl', 'salesforc', 'note', 'summari', 'note', 'tri', 'summari', 'note', 'comparison'], ['awesom', 'go', 'blog', 'post', 'thank', 'ethan', 'write', 'entir', 'thing'], ['look', 'avail', 'room', 'reserv', 'room', 'tuesday'], ['discuss', 'class'], ['think', 'discuss', 'idea', 'mockup', 'class', 'free'], ['work'], ['ethan', 'add', 'thing', 'blog', 'post', 'fix', 'typo', 'look', 'great', 'wasn', 'sure', 'includ', 'student', 'pitch'], ['cool', 'look', 'today', 'tomorrow', 'monday', 'aholiday'], ['yeah', 'thank', 'ethan', 'take', 'lead'], ['talk', 'roommat', 'use', 'salesforc', 'plugin', 'automat', 'email', 'call'], ['ebsta', 'email', 'plug'], ['plugin'], ['hangout', 'session', 'decid', 'bring', 'team', 'member'], ['prefer', 'hangout', 'cold'], ['today', 'work'], ['good'], ['work', 'class'], ['sure'], ['work'], ['post', 'link', 'time'], ['sound', 'good'], ['rachel'], ['think', 'appli', 'tini', 'thought'], ['like', 'cool', 'idea'], ['need', 'mockup', 'send', 'probabl', 'right'], ['think', 'project', 'money'], ['okay', 'cover', 'facebook'], ['long', 'equiti'], ['final', 'blog', 'post'], ['look', 'pitch', 'analysi', 'hope', 'tomorrow', 'night'], ['rachel', 'accident', 'click', 'resolv', 'brows', 'comment', 'comment', 'disappear', 'tri', 'undo', 'sorri', 'mistak'], ['comment', 'pitch', 'analysi'], ['useorca', 'longer', 'accept', 'custom'], ['expens'], ['busi'], ['copi', 'ethan', 'pitch', 'add', 'theme', 'base', 'discuss', 'theme', 'mintyy', 'adjust', 'content', 'custom', 'assum', 'ethan', 'version', 'investor'], ['cool', 'send', 'email', 'talk', 'custom', 'come', 'day'], ['pitch', 'folder', 'work', 'wonder', 'advic', 'wonder', 'send', 'custom', 'slide', 'right', 'approach', 'read', 'ethan', 'note', 'professor', 'say', 'send', 'investor', 'keynot'], ['send', 'pitch', 'deck', 'mintyy', 'pitch', 'slide'], ['send', 'mintyy', 'pitch', 'slide', 'need', 'send', 'sooner', 'later'], ['aren', 'send', 'investor', 'send', 'potenti', 'custom'], ['think', 'send', 'video', 'self', 'explanatori'], ['feel', 'unsettl', 'contact', 'linkedin', 'talk', 'long', 'time'], ['yeah', 'talk', 'peopl', 'point', 'want', 'feedback', 'class'], ['case', 'ask', 'pitch', 'peopl', 'speak'], ['right', 'sure', 'custom', 'differ', 'investor', 'materi'], ['thank', 'clarif'], ['problem'], ['agre', 'logo', 'like', 'tell', 'sister', 'final'], ['go', 'send', 'like', 'hour', 'call', 'present'], ['hello'], ['skimmon'], ['scienc', 'student', 'columbia', 'univers', 'cours', 'build', 'technolog', 'startup', 'class', 'identifi', 'real', 'busi', 'need', 'solv'], ['team', 'decid', 'focus', 'sale', 'train', 'space', 'artifici', 'intellig', 'improv', 'sale', 'approach', 'base', 'techniqu', 'work', 'past', 'feedback', 'sale', 'manag', 'interest', 'attach', 'product', 'mockup'], ['current', 'tri', 'feedback', 'idea', 'abl', 'success', 'address', 'pain', 'point', 'sale', 'manag', 'sale', 'repres'], ['great', 'appreci', 'appropri', 'employe', 'spend', 'minut', 'discuss', 'phone', 'day'], ['sincer'], ['skimmon'], ['mockup', 'custom', 'discoveri'], ['rachel', 'mockup', 'feel', 'like', 'best', 'convey', 'custom', 'product', 'offer'], ['thing', 'affect', 'good', 'chanc', 'reason', 'useorca', 'go', 'linkedin', 'lawsuit', 'go', 'right', 'linkedin', 'look', 'webscrap', 'site', 'illeg'], ['appar', 'extend', 'linkedin', 'commerci', 'webscrap'], ['deal'], ['yeah', 'go', 'doubt', 'itll', 'soon', 'wari'], ['true', 'good', 'point'], ['social', 'platform', 'own', 'data'], ['think', 'webscrap', 'product', 'elimin', 'need'], ['worri', 'care'], ['logo', 'happi', 'modifi', 'version', 'leaf', 'resembl', 'second', 'logo', 'page', 'vote', 'prefer'], ['person', 'like', 'middl', 'page', 'leaf'], ['middl'], ['like', 'leaf'], ['good'], ['send', 'bunch', 'messag', 'linkedin', 'today', 'spend', 'tri', 'figur', 'sale', 'titl', 'there', 'differ', 'titl', 'littl', 'difficult', 'easier', 'find', 'right', 'org', 'search', 'peopl', 'salesforc', 'administr', 'messag', 'director', 'compani', 'dont', 'know', 'feedback', 'administr', 'skill', 'salesforc'], ['probabl', 'good', 'sure', 'messag', 'one', 'case', 'search', 'result', 'return', 'similar', 'peopl'], ['good', 'idea', 'go', 'contact', 'sheet', 'folder', 'call', 'cold'], ['search', 'sale', 'manag', 'link', 'send', 'messag', 'morn', 'repli'], ['repli', 'tough', 'sale', 'manag', 'sdrs', 'linkedin', 'cold', 'email', 'send', 'sale', 'manag', 'bdrs', 'sdrs', 'link', 'messag', 'go', 'like', 'follow', 'profil', 'green', 'close', 'open', 'circl', 'mean', 'activ', 'notifi', 'respons', 'rat'], ['beatriz'], ['read', 'linkedin', 'profil', 'impress', 'corpor', 'sale', 'manag', 'year', 'surpass', 'sale', 'budget', 'past', 'year', 'experi', 'think', 'good', 'person', 'feedback', 'sale', 'work', 'sale', 'rep', 'sale', 'manag', 'like', 'feedback', 'help', 'better', 'sale', 'team'], ['send', 'mockup', 'linkedin', 'feedback', 'minut', 'time'], ['best'], ['rachel'], ['good', 'messag', 'person', 'probabl', 'help', 'feel', 'need', 'respond'], ['sale', 'execut', 'worth', 'messag', 'network', 'think', 'tri'], ['definit'], ['today'], ['messag', 'send', 'morn', 'read', 'mayb', 'respond', 'later'], ['tell', 'peopl', 'biggest', 'mistak', 'live'], ['cool', 'sure', 'tactic', 'evolv', 'trial', 'error'], ['definit', 'need', 'present', 'mayb', 'like'], ['think', 'present', 'includ', 'reachout', 'strategi', 'linkedin', 'attempt', 'gamifi', 'help', 'idea', 'evolv', 'better'], ['good', 'idea', 'contact', 'document', 'trickier', 'come', 'person', 'messag', 'usual', 'cold', 'mail'], ['send', 'connect', 'request', 'larg', 'batch', 'accept', 'invit', 'messag', 'help', 'respons', 'rat'], ['connect', 'receiv', 'respons', 'connect', 'learn', 'round', 'reach', 'haha'], ['think', 'legal', 'issu', 'mention', 'social', 'media', 'platform', 'own', 'data', 'provid', 'method', 'user', 'collect', 'data', 'store', 'data', 'guess', 'lawsuit'], ['ryan', 'offload', 'respons', 'custom', 'happi', 'sue', 'data', 'ownership', 'law', 'heat', 'year'], ['mean', 'actual', 'illeg', 'copi', 'inform', 'googl', 'sheet', 'linkedin'], ['data', 'want', 'profit', 'profit', 'need', 'data'], ['kind', 'jail', 'illeg', 'kind', 'sue', 'lot', 'money', 'compani', 'aren', 'respons'], ['law', 'interest'], ['googl', 'sheet', 'store', 'contact', 'peopl'], ['status', 'decid', 'color'], ['hope', 'haven', 'contact', 'connect'], ['thank', 'see', 'overlap', 'split', 'thing', 'region', 'necessari'], ['avoid', 'make', 'duplic', 'contact'], ['sure', 'linkedin', 'algorithm', 'mayb', 'send', 'messag', 'long', 'overlap'], ['draft', 'messag', 'linkedin', 'hope', 'person', 'profession'], ['teddi'], ['ryan', 'engin', 'student', 'columbia', 'univers', 'add', 'linkedin', 'day', 'read', 'profil', 'sale', 'experi', 'help', 'team', 'especi', 'experi', 'salesforc', 'work', 'product', 'artifici', 'intellig', 'improv', 'sale', 'approach', 'current', 'tri', 'feedback', 'idea', 'interest', 'attach', 'product', 'mockup'], ['nice', 'like', 'introduc', 'swap', 'sentenc', 'start', 'read', 'profil', 'team', 'work', 'product', 'feel', 'like', 'profil', 'reach'], ['thank', 'think', 'sequenc'], ['manag', 'draft', 'follow', 'messag', 'basic', 'sdrs', 'sure', 'tone'], ['manag'], ['ryan', 'engin', 'student', 'columbia', 'univers', 'add', 'linkedin', 'day', 'read', 'profil', 'sale', 'repres', 'manag', 'experi', 'help', 'team', 'especi', 'manag', 'train', 'develop', 'entri', 'level', 'sale', 'profession', 'recruit', 'work', 'product', 'artifici', 'intellig', 'help', 'sale', 'manag', 'improv', 'sale', 'approach', 'current', 'tri', 'feedback', 'idea', 'interest', 'attach', 'product', 'mockup'], ['shorten', 'sale', 'repres', 'manag', 'experi', 'sale', 'manag', 'experi', 'like', 'especi', 'manag', 'train', 'develop'], ['interest', 'like', 'interest', 'give', 'feedback', 'attach'], ['thank', 'advic', 'help'], ['updat', 'add', 'duplic', 'detect', 'googl', 'sheet', 'duplic', 'firstnam', 'lastnam', 'name', 'color', 'contact', 'person'], ['copi', 'show', 'linkedin', 'page', 'text', 'work', 'fine'], ['person', 'allianc', 'execut', 'project', 'manag', 'analyst', 'field', 'organ', 'guess', 'experi', 'sale', 'diversifi', 'experi', 'field', 'help', 'team'], ['doubl', 'check', 'map', 'pictur', 'correct', 'thank', 'respons', 'tell', 'map'], ['vertic', 'farm', 'compani', 'know', 'person', 'lead', 'group', 'email', 'pictur', 'blog', 'submit'], ['think', 'rest', 'map', 'correct'], ['thank', 'post', 'piazza', 'updat', 'instructor', 'sourav'], ['resolv', 'pictur', 'tell', 'complet', 'complet', 'copi'], ['link', 'direct', 'googl', 'doc'], ['person'], ['look', 'like'], ['know'], ['need', 'name'], ['blog', 'hard', 'feel', 'like', 'paparazzi'], ['think', 'cross', 'race', 'effect', 'keep', 'recogn'], ['mean', 'name', 'illustr'], ['sorri', 'guy', 'sick', 'past', 'day', 'get', 'better'], ['best', 'even', 'time', 'need', 'check', 'piazza', 'updat', 'meet', 'suppos', 'happen'], ['tomorrow', 'night', 'tri', 'conquer', 'mountain', 'work', 'build', 'begin', 'haha'], ['agre', 'question', 'answer', 'custom'], ['googl', 'right'], ['send', 'video'], ['question', 'custom', 'good', 'one'], ['titl'], ['know', 'final'], ['compil', 'list', 'send', 'email', 'custom', 'confirm', 'latest', 'version', 'pitch', 'deck', 'file'], ['review', 'mroe', 'send'], ['updat', 'necessari', 'exampl', 'contact', 'info', 'slide', 'version'], ['ethan', 'dunn', 'master', 'scienc', 'student', 'columbia', 'univers', 'cours', 'build', 'technolog', 'startup', 'class', 'identifi', 'real', 'busi', 'need', 'solv', 'team', 'decid', 'focus', 'custom', 'relationship', 'manag', 'space', 'inform', 'compani', 'columbia', 'busi', 'school', 'startup', 'webpag', 'great', 'appreci', 'appropri', 'employe', 'spend', 'minut', 'discuss', 'question'], ['satisfi', 'current', 'product', 'room', 'specif', 'improv'], ['product', 'data', 'drive', 'approach', 'priorit', 'lead', 'think', 'accomplish', 'task', 'success', 'think', 'featur', 'provid', 'valu'], ['think', 'employe', 'custom', 'relationship', 'process', 'incentiv', 'proport', 'valu', 'deal', 'close', 'interest', 'product', 'attempt', 'achiev'], ['mind', 'purpos', 'cours', 'creat', 'foundat', 'necessari', 'build', 'startup', 'receiv', 'ventur', 'capit', 'fund', 'honest', 'feedback', 'propos', 'ensur', 'path', 'success', 'team', 'continu', 'project', 'graduat', 'appreci', 'insight', 'provid'], ['sincer'], ['ethan', 'dunn'], ['previous', 'email', 'content', 'chang', 'plan', 'send', 'pitch', 'deck', 'know', 'movi', 'answer', 'question', 'good', 'share'], ['presum', 'movi', 'sound', 'right', 'couldn', 'turn', 'sound'], ['take', 'social', 'media', 'session', 'final', 'linkedin', 'profil', 'onlin'], ['upload', 'blog', 'post', 'basic', 'type', 'start', 'lose', 'flow', 'later', 'post', 'go', 'revis', 'look', 'comment', 'correct', 'type', 'detail', 'pitch', 'present', 'want', 'think', 'team', 'respons', 'blog', 'post', 'entir', 'semest', 'good'], ['work', 'tonight', 'feel', 'free', 'edit', 'direct'], ['googl', 'hangout', 'right'], ['rachel', 'send', 'hangout', 'link'], ['readi'], ['tri', 'figur', 'multipl', 'invit', 'link'], ['sure'], ['unfamiliar', 'googl', 'hangout'], ['okay', 'rachel', 'run', 'late'], ['start'], ['unfamiliar'], ['okay', 'sound', 'good', 'readi', 'read', 'materi', 'syllabus'], ['think', 'start', 'invit', 'peopl', 'wait', 'rachel'], ['start', 'tri'], ['send', 'invit'], ['mean', 'columbia', 'email'], ['notif', 'disabl', 'columbia', 'account'], ['columbia', 'email'], ['earlier'], ['point', 'wait', 'rachel', 'think'], ['mayb', 'figur', 'share', 'link'], ['problem', 'join'], ['tri', 'send', 'invit'], ['guess', 'haven', 'receiv'], ['gmail', 'account'], ['mayb', 'need', 'account'], ['great', 'account'], ['good', 'idea'], ['succeed'], ['need', 'columbia', 'email', 'join', 'chat'], ['aeon', 'timelin'], ['sorri', 'link'], ['aeon', 'timelin'], ['startup', 'directori'], ['room', 'reserv'], ['tuesday', 'go', 'cold', 'email', 'call', 'power', 'session', 'conduct', 'market', 'research', 'interview', 'come', 'game', 'play', 'meet', 'locat', 'butler'], ['thank', 'meet', 'tuesday', 'meet', 'note'], ['thank', 'tuesday'], ['note', 'googl', 'drive'], ['good'], ['necessari', 'read', 'like', 'articl'], ['check', 'begin', 'work', 'second', 'deal', 'evalu', 'tomorrow', 'sorri', 'silent', 'week'], ['cool', 'sound', 'good', 'document', 'drive', 'discuss', 'tomorrow'], ['mean', 'monday', 'time', 'slot', 'work'], ['tuesday', 'better'], ['yeah', 'meet'], ['sheet', 'slot', 'week', 'switch'], ['problem'], ['confirm'], ['yeah', 'havent', 'hear', 'sure', 'deal'], ['idea', 'sick', 'send', 'email', 'tomorrow', 'guy'], ['haven', 'finish', 'html', 'mockup', 'meet', 'tomorrow', 'receiv', 'email', 'ritvik', 'case', 'hasn', 'see'], ['wonder', 'price', 'compon', 'slide'], ['page'], ['think', 'mean', 'feedback', 'price', 'model'], ['peopl', 'will', 'compani'], ['remind', 'meet', 'class', 'today', 'briefli', 'begin', 'final', 'team', 'member'], ['cool'], ['mintyy'], ['look', 'great', 'upload', 'drive'], ['sure', 'upload', 'mockup', 'folder'], ['thank', 'updat', 'video'], ['sister', 'come', 'possibl', 'logo', 'idea', 'thing', 'send'], ['will', 'chang', 'get', 'feedback'], ['awesom'], ['think', 'honest', 'look', 'great', 'design', 'logo', 'haven', 'settl', 'slogan', 'talk', 'suggest', 'logo', 'leaf', 'look', 'especi', 'good', 'think', 'variat', 'leaf', 'work', 'attach'], ['tell', 'ann', 'thank', 'awesom'], ['like', 'slogan', 'placehold', 'right', 'hammer', 'decid', 'thing'], ['look', 'great'], ['thank', 'help'], ['think', 'font', 'great', 'leaf', 'person', 'prefer', 'one'], ['ultra', 'font', 'feel', 'energet', 'regular', 'font', 'feel', 'sturdi', 'depend'], ['regular', 'font', 'remind', 'money', 'financ'], ['feel', 'expect', 'product', 'go', 'lightweight', 'simpl', 'tool', 'opposit'], ['check', 'blog', 'post', 'forget', 'forth', 'team', 'rememb', 'thing'], ['thank', 'ryan', 'work', 'today', 'updat', 'tonight', 'info'], ['worri', 'updat', 'biolyt'], ['better'], ['forth', 'team', 'class'], ['eventu', 'need', 'custom', 'answer', 'question', 'right', 'start', 'look', 'possibl', 'custom', 'final'], ['thank', 'question', 'feedback', 'mockup', 'think', 'mintyy', 'logo', 'minim', 'sketch', 'total', 'fine', 'logo', 'base'], ['follow', 'email', 'respons', 'convinc', 'question'], ['thank'], ['respons', 'founder', 'need', 'contact', 'peopl', 'specif', 'sale', 'role'], ['googl', 'form', 'question', 'aggreg', 'respons', 'use'], ['send', 'form', 'interest'], ['note', 'lectur', 'week', 'mintyy', 'folder', 'case', 'want', 'blog', 'post'], ['action', 'item', 'base', 'today', 'speaker', 'mayank', 'mehta'], ['answer', 'answer', 'differenti', 'decid', 'focus', 'googl'], ['user', 'stori', 'print', 'wall'], ['come', 'small', 'start', 'campaign', 'signup'], ['autom', 'linkedin', 'reach', 'out', 'useorca'], ['talk', 'equiti', 'equiti', 'pool'], ['current', 'lead', 'slack', 'channel', 'mention', 'slack', 'advis', 'channel'], ['class', 'deal', 'evalu'], ['mock', 'sale', 'manag', 'view', 'data', 'analyt'], ['draw', 'propos', 'googl', 'draw', 'sale', 'manag', 'view', 'data', 'analyt'], ['draw', 'mockup', 'summari', 'data', 'analysi', 'view'], ['thank', 'rachel', 'draft', 'take', 'window', 'modif', 'hope', 'mind'], ['tri', 'style', 'consist', 'experi', 'design'], ['vertic', 'farm', 'team'], ['say', 'send', 'pictur', 'finish', 'blog'], ['talk', 'hat', 'salesforc', 'love', 'hubspot'], ['survey', 'answer', 'advic'], ['like', 'coach', 'aspect', 'suggest', 'pursu'], ['think', 'industri', 'open', 'closer', 'share', 'reward'], ['tuesday', 'morn', 'work', 'set', 'cbsstartup'], ['have', 'rough', 'time', 'get', 'respons', 'send', 'later', 'today'], ['cbsstartup'], ['add', 'connect', 'send', 'messag'], ['file', 'know', 'latest', 'sound', 'video', 'explain', 'product'], ['problem', 'send', 'video', 'play', 'video'], ['think', 'video', 'idea', 'awesom', 'absolut', 'includ', 'pitch'], ['mayb', 'live', 'explan'], ['mean', 'inconveni', 'open', 'video', 'work'], ['look', 'question', 'guess', 'label', 'question', 'add', 'want'], ['guy', 'think', 'visual', 'competitor', 'differenti', 'basic', 'come', 'version', 'sidr', 'checklist', 'like', 'work', 'time', 'requir', 'reduc', 'number', 'dimens', 'idea', 'comprehens', 'one', 'everyon', 'thought', 'time', 'day', 'comprehens', 'graphic'], ['pitch', 'slide', 'graphic', 'think'], ['flower', 'look', 'model'], ['market', 'size'], ['think', 'idea', 'wrong'], ['shoot', 'differenti', 'read', 'messag', 'wrong'], ['pretti', 'open', 'end'], ['check', 'compani', 'time', 'idea'], ['good', 'come', 'matrix', 'checklist', 'checklist', 'suitabl', 'give', 'tri', 'promot', 'comprehens', 'multipl', 'dimens', 'product', 'want', 'sure', 'hard', 'start'], ['think', 'dimens', 'choos'], ['competitor', 'rank'], ['yeah', 'exact', 'question', 'give', 'larg', 'number', 'compani', 'consid', 'competitor', 'best', 'comparison', 'similar', 'comprens', 'product', 'product', 'dimension', 'nich', 'product'], ['exact', 'type', 'competitor', 'look', 'social', 'media', 'platform', 'sale', 'team', 'train', 'softwar'], ['good', 'question', 'ask', 'sale', 'manag', 'hear', 'similar'], ['yeah', 'good', 'idea', 'talk', 'friend', 'week', 'mention', 'manag', 'look', 'potenti', 'altern', 'salesforc', 'think', 'go', 'frame', 'product', 'primarili', 'train', 'tool', 'oppos', 'simpli', 'make', 'live', 'easier', 'deal', 'flow', 'effect'], ['long', 'messag'], ['join', 'channel'], ['join', 'channel'], ['join', 'channel'], ['make', 'sens', 'think', 'look', 'product', 'train', 'tool', 'sdrs', 'sale', 'manag', 'send', 'pitch', 'today', 'internet', 'like', 'day', 'peopl', 'link', 'begin', 'get', 'answer', 'question'], ['googl', 'form', 'aggreg', 'answer', 'today'], ['add', 'googl', 'form', 'question', 'folder', 'call', 'custom', 'discoveri', 'origin', 'question', 'document'], ['thank'], ['send', 'pitch', 'deck'], ['video'], ['compil', 'email', 'draft', 'haven', 'send'], ['learn', 'stuff', 'pitch', 'work', 'hackathon'], ['okay', 'time', 'work', 'tonight', 'go', 'draft', 'messag', 'send', 'linkedin', 'mayb', 'work', 'pitch', 'deck'], ['edit', 'stuff'], ['okay', 'copi', 'pitch', 'deck', 'assembl', 'play'], ['okay', 'awesom', 'end', 'finj', 'confer', 'tonight', 'haven', 'time'], ['yeah', 'total', 'fine', 'titl', 'know', 'version'], ['problem', 'hackathon', 'sound', 'like'], ['thank'], ['work', 'round'], ['congrat'], ['slack', 'notif', 'work', 'thank', 'compil', 'question', 'procedur', 'send', 'pitch', 'deck', 'slide', 'video', 'question', 'interest', 'right'], ['peopl', 'show', 'email', 'address', 'send', 'messag', 'linkedin', 'hope', 'unprofession'], ['focus', 'link', 'definit', 'unprofession'], ['good', 'know', 'thank'], ['salesforc', 'automat', 'email', 'call'], ['work', 'deal', 'evalu', 'assign', 'start', 'wonder'], ['suppos', 'sure', 'yeah', 'appar', 'need', 'instal', 'ebsta', 'salesforc', 'plugin', 'librari', 'connect'], ['work', 'want'], ['googl', 'mintyy', 'folder', 'question', 'unansw', 'requir', 'feel', 'free', 'think'], ['help', 'work', 'tomorrow'], ['check', 'doc', 'tonight', 'work', 'tomorrow'], ['blog', 'post', 'includ', 'thing', 'lesson', 'learn', 'class', 'best', 'practic', 'pitch', 'photo', 'class'], ['take', 'instruct'], ['present', 'pictur'], ['pictur'], ['pictur', 'person', 'pitch', 'class'], ['mayb', 'tomorrow', 'night'], ['pictur', 'begin', 'peopl', 'present', 'abl', 'tell', 'differ', 'sure'], ['differ', 'peopl', 'present', 'tomorrow', 'time'], ['overlap'], ['googl', 'actual', 'flat', 'organ', 'structur'], ['think', 'notic', 'sentiment', 'student', 'pitch', 'import', 'pic'], ['mention', 'team'], ['put', 'pictur'], ['team'], ['nevermind', 'googl', 'say', 'googl', 'organ', 'flat'], ['okay', 'note', 'pitch', 'yesterday'], ['mean', 'class', 'yesterday'], ['know', 'second', 'team', 'pitch'], ['fourth', 'team'], ['rememb', 'second', 'team', 'biolyt'], ['forth', 'team', 'face', 'recognit'], ['pitch', 'post', 'piazza'], ['second', 'team', 'biolyt', 'say', 'intend', 'analyz', 'data', 'paper', 'determin', 'promis', 'one', 'approv', 'save', 'money', 'pharmaceut', 'compani'], ['shruti', 'ask', 'question', 'larg', 'compani', 'go', 'differ', 'answer', 'go', 'target', 'medium', 'small', 'compani'], ['forth', 'team', 'attent', 'face', 'recognit', 'sound', 'like', 'good', 'idea', 'go', 'leav', 'time'], ['sorri', 'kind', 'present', 'work', 'today', 'entir', 'week', 'hackathon', 'work', 'weekend', 'catch', 'check', 'deal', 'evalu', 'contact', 'custom', 'know', 'logo', 'like', 'black', 'green', 'leaf', 'logo', 'stand', 'logo', 'peopl', 'design', 'corner', 'know', 'product'], ['begin', 'send', 'pitch', 'wonder', 'best', 'approach', 'want', 'send', 'messag', 'weekend', 'hope', 'call', 'upcom', 'week'], ['add', 'peopl', 'linkedin', 'work', 'midterm', 'begin', 'send', 'messag', 'sunday'], ['meet', 'right'], ['think', 'rachel', 'say', 'messag', 'yesterday'], ['need', 'attend', 'sure', 'end'], ['join', 'meet'], ['meet'], ['work', 'prefer', 'earlier', 'think', 'work'], ['okay'], ['work'], ['arent', 'respond', 'meet', 'post', 'hangout', 'link'], ['good'], ['good'], ['accord', 'piazza', 'post', 'assign', 'weekend', 'monday', 'work', 'goal', 'set', 'object', 'year', 'happen', 'earlier', 'sick', 'thursday', 'friday', 'move', 'deadlin', 'monday'], ['problem', 'tuesday'], ['tuesday'], ['tuesday', 'work', 'sorri', 'lack', 'communic', 'week', 'pretti', 'sick', 'reconven', 'class', 'tuesday'], ['tuesday', 'work'], ['tuesday', 'oppos', 'meet', 'tomorrow', 'tuesday', 'meet', 'group'], ['wait', 'meet', 'tuesday'], ['meet', 'tomorrow', 'right', 'email', 'send'], ['your', 'refer', 'meet', 'group'], ['meet', 'monday', 'group', 'meet', 'tuesday'], ['join', 'channel'], ['join', 'channel'], ['upload', 'note', 'prechelon', 'today', 'main', 'focus', 'need', 'sale', 'team', 'engag', 'right', 'report', 'tool', 'neglect', 'use', 'tool', 'help'], ['richard', 'know', 'data', 'analysi', 'score'], ['rest', 'note', 'document', 'mintyy', 'googl', 'drive', 'folder', 'call', 'prechelon'], ['tomorrow'], ['head', 'butler'], ['run', 'littl', 'late'], ['secur'], ['sign', 'educ', 'link'], ['get', 'pass'], ['use', 'imag'], ['upload', 'rough', 'draft', 'pitch', 'deck', 'follow', 'guid', 'onlin', 'differ', 'section'], ['know', 'think', 'updat', 'tomorrow', 'hand', 'tomorrow', 'night'], ['meet', 'goldman', 'employe', 'hope'], ['suppos', 'review', 'pitch', 'send', 'follow', 'prof', 'answer', 'sort', 'wishi', 'washi', 'like', 'send', 'review', 'know', 'type', 'compani'], ['think', 'main', 'competitor'], ['definit', 'lead', 'generat', 'lead', 'follow', 'nich'], ['dont', 'focus', 'train', 'compil', 'sale', 'tactic', 'twitter', 'like', 'fee'], ['see', 'close', 'one', 'focus', 'sale', 'develop', 'workflow', 'transpar'], ['thing', 'there', 'compani', 'area', 'tri', 'occupi'], ['person', 'email', 'analyt', 'space', 'definit', 'crowd', 'extent', 'go', 'featur', 'space', 'go', 'figur', 'abl', 'differenti'], ['talk', 'peopl', 'agre', 'justin', 'ethan', 'say', 'main', 'feedback', 'sale', 'twitter', 'aspect', 'come', 'nice', 'use', 'simpl', 'slack', 'sale', 'coach', 'compani', 'week', 'train', 'session', 'video', 'base', 'learn', 'manag', 'system', 'sale', 'manag', 'see', 'sale', 'coach', 'biggest', 'issu', 'get', 'meet', 'decis', 'maker', 'peopl', 'think', 'recommend', 'idea', 'past', 'data', 'like', 'justin', 'say', 'think', 'consid', 'recruit', 'headhunt', 'space', 'long', 'term', 'feedback', 'perform', 'lead', 'matter'], ['want', 'confirm', 'present', 'tuesday'], ['time'], ['okay', 'go', 'reflect', 'chang', 'idea', 'present', 'stick', 'sale', 'idea'], ['follow', 'need', 'finish', 'present'], ['interest', 'rachel', 'clarifi', 'mean', 'recruit', 'space', 'context'], ['pretti', 'general', 'competitor', 'comparison', 'templat', 'need', 'work', 'relev', 'competitor', 'entri', 'featur', 'offer', 'slide'], ['twitter', 'like', 'aspect', 'similar', 'custom', 'profil', 'fresh', 'colleg', 'grad', 'email', 'recommend', 'headhunt', 'incent', 'structur', 'kind', 'similar', 'intern', 'candid', 'track', 'compani', 'build', 'custom', 'consid', 'sale', 'hire', 'possibl', 'build', 'hackerrank', 'sale'], ['consid', 'social', 'media', 'like', 'intern', 'compani', 'limit', 'sale'], ['social', 'media', 'like', 'span', 'compani', 'interest', 'sort', 'updat', 'fee', 'everyon', 'work', 'certain', 'task', 'accomplish', 'think', 'recent', 'actual', 'exist', 'updat', 'receiv', 'task', 'complet', 'job', 'compani', 'hierarchi', 'see', 'work', 'task', 'updat', 'verbal', 'receiv', 'updat', 'verbal', 'superior'], ['tough', 'tuesday'], ['slack', 'communic', 'purpos', 'similar', 'instead', 'actual', 'communic', 'feed', 'peopl'], ['exact'], ['like', 'track', 'hire', 'process', 'mess', 'compani', 'wide', 'accept', 'solut', 'think', 'good', 'pictur', 'track', 'sale'], ['want', 'talk', 'hire', 'manag', 'addit', 'sale', 'manag'], ['yeah', 'space', 'crowd'], ['stuff'], ['think', 'compani', 'agnost', 'twitter', 'fee', 'want', 'assum', 'space', 'isnt', 'crowd', 'sale', 'twitter', 'demo', 'case'], ['research', 'day', 'sure'], ['right', 'think', 'intern', 'social', 'platform', 'best'], ['bunch', 'compani'], ['compani', 'intern', 'wiki', 'inform'], ['mayb', 'includ', 'intern', 'inform'], ['guy', 'want', 'tuesday', 'prep', 'pitch', 'know', 'guy', 'flexibl'], ['sorri', 'midtown', 'afternoon', 'catch', 'go', 'meet', 'tuesday', 'need'], ['sorri', 'that', 'mean', 'sale', 'specif'], ['rework', 'pitch'], ['research', 'repli', 'accept', 'invit', 'person', 'note', 'import', 'lesson'], ['think', 'agre', 'pivot', 'decent', 'progress', 'class', 'time', 'think', 'process'], ['haven', 'speak', 'custom', 'idea'], ['rachel', 'think', 'continu', 'focus', 'train', 'switch', 'intern', 'social', 'platform', 'train', 'learn', 'aspect'], ['ask', 'group', 'place'], ['headhunt', 'aspect', 'professor', 'mention', 'interest', 'tool', 'help'], ['mayb', 'discov', 'potenti', 'employe', 'softwar', 'manag', 'hire'], ['look', 'tool', 'scan', 'social', 'media', 'monitor', 'peopl', 'hire'], ['yeah', 'think', 'good', 'idea'], ['scan', 'social', 'media', 'great', 'hire', 'great', 'idea'], ['posit', 'feedback', 'get', 'center', 'social', 'media', 'aspect', 'advantag', 'team', 'understand', 'field', 'user'], ['intern', 'social', 'media', 'platform', 'limit', 'sale', 'avenu', 'compar', 'scan', 'social', 'media', 'hire'], ['like', 'compani', 'year', 'like', 'leav', 'soon'], ['sure', 'softwar', 'mention'], ['sorri', 'signal', 'subway', 'interest', 'send', 'email', 'explain', 'discoveri', 'work'], ['scan', 'social', 'media', 'hire', 'good', 'idea', 'face', 'data', 'issu', 'data'], ['like', 'issu'], ['opinion', 'time', 'draft', 'outlin', 'say', 'close', 'lookin'], ['issu', 'discuss', 'think', 'inform', 'data', 'issu'], ['interest', 'make', 'direct'], ['professor', 'firm', 'potenti', 'design', 'partner', 'investor'], ['ryan', 'kind', 'work', 'work'], ['interest', 'internship', 'opportun', 'ask', 'mention', 'tool', 'express', 'product', 'ask', 'share', 'idea', 'group', 'want', 'disrupt', 'direct', 'mention', 'have', 'difficulti', 'good', 'opportun'], ['current', 'work', 'simpli', 'draft', 'outlin', 'tool', 'base', 'requir', 'say', 'close', 'look'], ['month', 'continu', 'work', 'outlin', 'decid', 'direct', 'sure', 'work', 'idea'], ['follow', 'outlin', 'draft'], ['data', 'initi', 'linkedin', 'data', 'sourc'], ['extract', 'inform', 'data', 'form', 'properti', 'peopl', 'posit', 'role', 'isincompani', 'currentcompani', 'currentcompani', 'jointim'], ['user', 'creat', 'custom', 'view', 'unlimit', 'seri', 'boolean', 'oper', 'filter', 'data', 'obtain', 'list', 'peopl', 'rule', 'look', 'like', 'follow'], ['unlimit', 'boolean', 'oper'], ['peopl', 'databas', 'sale', 'manag', 'spend', 'year', 'compani', 'hasn', 'compani', 'month', 'recent', 'leav', 'firm'], ['custom', 'view', 'contain', 'list', 'peopl', 'user'], ['export', 'inform', 'accord', 'need', 'email', 'excel', 'document'], ['generat', 'reach', 'email', 'templat', 'base', 'hobbi', 'show', 'social', 'media'], ['track', 'social', 'media', 'activ', 'share', 'articl'], ['alert', 'condit', 'leav', 'firm', 'perform', 'certain', 'action', 'social', 'media', 'user', 'contact', 'right', 'time'], ['perform', 'predict', 'machin', 'learn', 'likelihood', 'leav', 'current', 'compani', 'calcul', 'condit', 'custom', 'view'], ['contrast', 'nuzzel', 'base', 'articl', 'say', 'nuzzel', 'collect', 'link', 'share', 'friend'], ['flexibl', 'multipl', 'set', 'rule', 'collect', 'link', 'share', 'user', 'linkedin', 'instead', 'friend'], ['report', 'user', 'peopl', 'list', 'perform', 'certain', 'action'], ['contrast', 'salesforceiq', 'base', 'introduct', 'video', 'youtub', 'spring'], ['field', 'obtain', 'kind', 'social', 'media', 'artifici', 'intellig'], ['allow', 'complic', 'rule', 'appli'], ['repli', 'great', 'close', 'look', 'ask', 'check'], ['accompani', 'right', 'scan', 'news', 'social', 'media', 'mention', 'contact', 'inbox', 'send', 'daili', 'brief'], ['fine', 'direct'], ['send', 'email', 'tonight', 'updat', 'inform', 'necessarili', 'decid', 'direct'], ['realiz', 'haven', 'repli', 'accompani', 'email', 'good', 'think'], ['sound', 'like', 'good', 'idea', 'depend', 'linkedin'], ['recent', 'develop', 'python', 'packag', 'troubl', 'scrap', 'profil', 'linkedin', 'time'], ['like', 'need', 'pretti', 'adept', 'rotat'], ['tri', 'repli', 'peopl', 'linkedin', 'open', 'direct', 'think', 'correct'], ['justin', 'wait', 'like', 'queri'], ['obvious', 'rapid'], ['consid', 'cross', 'profil', 'link'], ['use', 'context', 'hire'], ['experi', 'like', 'solut', 'haven', 'better', 'especi', 'pool', 'rotat'], ['get', 'difficult', 'pretti', 'develop'], ['outsourc', 'manual', 'labor'], ['fair', 'concern'], ['person', 'data', 'issu', 'interest', 'data', 'linkedin', 'mean', 'data', 'linkedin', 'properti', 'data', 'platform', 'like', 'handshak', 'determin', 'properti', 'content', 'exact', 'interest', 'thing', 'data', 'googl', 'recogn', 'human', 'eye', 'program', 'data', 'sourc', 'obtain', 'date', 'info', 'peopl'], ['scrap', 'program', 'access', 'peopl', 'collect', 'data'], ['like', 'bittorr'], ['cours', 'legal', 'issu'], ['settl', 'idea', 'base', 'best', 'market'], ['unrel', 'previous', 'idea', 'collect', 'linkedin', 'profil', 'data', 'manual', 'sell', 'insight', 'analyt'], ['request', 'basi', 'peopl', 'like', 'shruti', 'exampl', 'request', 'peopl', 'york', 'compani', 'month', 'chanc', 'leav'], ['agre', 'decis', 'base', 'market', 'request', 'basi', 'mean', 'time', 'thing', 'shruti', 'requir', 'case', 'idea', 'actual', 'extract', 'use', 'inform', 'let', 'user', 'creat', 'filter', 'purpos'], ['think', 'great', 'scalabl', 'begin', 'servic', 'firm', 'help', 'figur', 'request', 'valuabl', 'insight'], ['go', 'linkedin', 'tri', 'websit', 'turn', 'search', 'oper', 'easili', 'websit', 'like', 'search', 'certain', 'compani', 'biggest', 'downsid', 'give', 'insight', 'profil', 'data', 'linkedin', 'easili', 'implement', 'function', 'like', 'destroy', 'competitor'], ['cross', 'refer', 'facebook', 'twitter', 'link', 'social', 'media', 'profil', 'valuabl', 'mean', 'cross', 'profil', 'link'], ['head', 'sleep', 'respond', 'tomorrow'], ['think', 'shruti', 'mention', 'track', 'user', 'activ', 'differ', 'social', 'media', 'platform', 'look', 'outlin', 'actual', 'mean', 'monitor', 'activ', 'social', 'media', 'platform', 'chanc', 'talk', 'contact', 'day', 'bring', 'specif'], ['head', 'work', 'slack', 'confirm', 'sign', 'hour', 'notic', 'confirm', 'piazza', 'want', 'miss', 'work', 'meet', 'look', 'like', 'happen'], ['guess', 'happen', 'word', 'email', 'tonight'], ['rithvik', 'usernam'], ['meet'], ['respons', 'go'], ['number', 'addon', 'crunchbas', 'think', 'preview', 'scroll', 'crunchbas', 'articl'], ['crunchbas', 'entri', 'number', 'check'], ['deal', 'evalu', 'right'], ['think', 'week', 'date'], ['thank'], ['think', 'push', 'teach', 'aspect', 'use', 'creat', 'train', 'content', 'rememb', 'rachel', 'say', 'like', 'detect', 'ineffect', 'email', 'meet', 'definit', 'provid', 'valu'], ['feedback', 'learn', 'content', 'want', 'avoid'], ['busi', 'learn', 'content', 'need', 'expertis', 'lead', 'develop', 'process'], ['agre', 'shruti', 'gandhi', 'keep', 'say', 'train', 'defin', 'develop', 'skill', 'entri', 'level', 'account', 'execut', 'feedback', 'provid', 'reinforc', 'learn', 'sdrs'], ['add', 'bunch', 'question', 'question', 'custom', 'document'], ['blog', 'post', 'tonight', 'tomorrow', 'night', 'valentin'], ['probabl', 'friday', 'night', 'weekend'], ['midterm', 'post', 'question', 'studi', 'midterm', 'piazza', 'that', 'hear'], ['post', 'longer', 'exist', 'think', 'person', 'post', 'wrong', 'cours'], ['look', 'like', 'monday', 'join', 'remot', 'mayb', 'noon'], ['physic', 'sorri', 'guy', 'email', 'morn', 'realiz', 'send', 'night'], ['problem', 'know'], ['room', 'offic', 'hour', 'walk', 'tabl'], ['cool'], ['abl'], ['minut', 'late'], ['check', 'ask', 'plan'], ['ordinari'], ['cool'], ['thank', 'kinda', 'slam', 'work', 'today', 'look', 'class', 'tonight', 'class'], ['class', 'today'], ['piazza'], ['cool', 'week', 'right', 'sprin', 'gbreak'], ['present'], ['alright', 'deal', 'eval', 'slide', 'tonight'], ['drop', 'user', 'stori', 'present', 'direct'], ['slide'], ['user', 'stori', 'slide'], ['think', 'user', 'stori', 'look', 'great', 'chang', 'sentenc', 'mintyy', 'account', 'instead', 'mintyy', 'account'], ['like', 'user', 'stori', 'add', 'know', 'help', 'pardon', 'english'], ['think', 'shorten', 'john', 'user', 'stori', 'possibl', 'step'], ['fine', 'think', 'import', 'advertis', 'remov', 'sentenc'], ['split', 'slide', 'user', 'stori'], ['team', 'slide', 'pick', 'favorit', 'thing'], ['sure', 'look', 'thing'], ['market', 'leaf', 'pictur', 'mintyy', 'think', 'one', 'nice', 'round', 'circl', 'surround', 'know', 'think'], ['okay', 'mayb'], ['idea', 'current', 'cover', 'user', 'stori'], ['share', 'person', 'team', 'page', 'short', 'give', 'exampl'], ['social', 'media', 'refer', 'sale', 'twitter', 'collect', 'inform', 'social', 'media'], ['sale', 'twitter'], ['collect', 'social', 'media', 'info', 'potenti', 'bonus', 'provid', 'custom'], ['articl', 'say', 'social', 'media', 'analyt', 'market', 'expect', 'reach', 'billion'], ['think', 'collect', 'data', 'monitor', 'profil', 'analyt', 'mayb', 'sure'], ['generat', 'email', 'includ', 'inform', 'social', 'media', 'count'], ['prefer', 'present', 'predict', 'random', 'year', 'futur'], ['agre', 'think', 'wrong', 'chang'], ['generat', 'email', 'count'], ['search', 'social', 'media', 'analyt', 'googl', 'page', 'say', 'global', 'social', 'media', 'analyt', 'market', 'valu', 'billion', 'project', 'reach', 'valu', 'billion'], ['check'], ['rememb', 'mintyy', 'generat', 'email', 'templat', 'base', 'email', 'person', 'data'], ['yeah', 'growth', 'figur', 'display', 'current', 'project', 'current', 'leaf', 'format', 'mayb', 'includ', 'number'], ['project'], ['sound', 'like', 'popular', 'choic'], ['suggest', 'chang', 'plan', 'video', 'mintyy', 'pitch', 'lieu', 'screenshot', 'avail'], ['look', 'good'], ['tri', 'shorten', 'john', 'stori', 'take', 'inform', 'phone', 'log', 'updat'], ['begin', 'custom', 'send', 'pitch'], ['propos', 'chang', 'problem', 'slide', 'align', 'idea', 'tri', 'solv'], ['possibl', 'bullet', 'point', 'speaker', 'note', 'section', 'check'], ['possibl', 'send', 'demo', 'video', 'peopl', 'will', 'help', 'influenc', 'creation', 'futur', 'sale', 'platform', 'get', 'minut', 'phone'], ['like', 'check', 'video', 'tonight', 'probabl', 'great', 'idea'], ['think', 'video', 'look', 'good', 'mayb', 'browser', 'look', 'littl', 'squeez', 'screenshot', 'know', 'help'], ['know', 'slack', 'compress', 'pictur', 'origin', 'look', 'clearer', 'need', 'upload', 'drive'], ['shruti', 'access', 'midterm', 'pitch', 'deck', 'slide', 'request', 'hour', 'want', 'chang', 'grant', 'access', 'min'], ['hope', 'feel', 'better', 'rachel'], ['monday', 'time', 'slot', 'work'], ['know', 'talk', 'weekend', 'organ', 'deal', 'evalu', 'week'], ['add', 'answer', 'question', 'second', 'deal', 'evalu', 'go', 'review', 'main', 'write'], ['forget', 'laptop', 'today', 'take', 'note', 'think', 'matter'], ['class', 'today', 'right'], ['believ'], ['yeah', 'late', 'leav'], ['work', 'assign', 'abl', 'lectur', 'join', 'class'], ['reach', 'linkedin', 'email', 'attach', 'version', 'mockup'], ['schedul', 'interest', 'invit', 'influenc', 'futur'], ['beta', 'user', 'slack', 'channel'], ['goal', 'total', 'sdrs', 'sale', 'manag'], ['share', 'reach', 'email', 'slack'], ['want', 'optim', 'qualiti', 'inform', 'call', 'tomorrow', 'go', 'send', 'list', 'question', 'want', 'answer', 'tonight', 'think', 'import', 'send', 'collat', 'start', 'googl', 'drive', 'know'], ['piazza', 'post', 'team', 'verif', 'case', 'check', 'check', 'mintyy'], ['thank'], ['submit', 'right'], ['submit', 'midterm', 'pitch', 'deck'], ['cool', 'pass', 'tonight'], ['guy', 'look', 'like', 'go', 'stick', 'boston', 'storm', 'origin', 'plan', 'afternoon', 'car', 'have', 'troubl', 'snow', 'doesnt', 'look', 'like', 'abl', 'class', 'meet', 'follow'], ['problem', 'justin', 'stay', 'safe'], ['check', 'suppos', 'blog', 'post', 'week', 'pictur', 'work', 'chanc', 'class', 'right', 'time', 'littl', 'late'], ['check', 'mention', 'come', 'guidelin', 'piazza', 'post', 'shouldn', 'worri', 'deal', 'evalu', 'assign', 'clear', 'thing'], ['scribe', 'today', 'check', 'team', 'format'], ['unrel', 'note', 'blog', 'post', 'person', 'team', 'creat', 'blog', 'post', 'class', 'share', 'like', 'medium', 'team', 'help', 'photo', 'upload', 'blog', 'post', 'googl', 'drive', 'folder'], ['thank'], ['confus', 'differ', 'scribe', 'blog'], ['prof', 'say', 'differ'], ['simplifi', 'matter'], ['blog', 'need', 'class'], ['go', 'piazza', 'post', 'sorri'], ['say', 'contact', 'need'], ['tell', 'good', 'note', 'class', 'fast', 'type', 'write', 'sure', 'week', 'submit', 'blog', 'post'], ['whoooo', 'want', 'pitch', 'class'], ['want', 'idea', 'right'], ['sound', 'good', 'pitch', 'die', 'pitch'], ['like', 'present'], ['think', 'quick', 'thing', 'valu', 'prop', 'short', 'compani', 'blurb'], ['yeah', 'mayb', 'slight', 'time'], ['great', 'rachel'], ['great'], ['talk', 'professor', 'class', 'einstein'], ['awesom', 'guarante', 'audienc', 'mockup'], ['say', 'feel', 'differ', 'aspect', 'sale', 'process', 'need', 'focus', 'specif', 'area'], ['exampl', 'think', 'complet', 'solut', 'say', 'make', 'think', 'solv', 'sale', 'train', 'problem', 'achiev'], ['tool', 'automat', 'handl', 'data', 'process', 'promis', 'compani', 'need', 'record', 'data'], ['think', 'talk', 'class', 'think', 'main', 'valu', 'incentiv', 'pipelin'], ['think', 'problem', 'focus', 'point'], ['exampl', 'pipelin', 'specif', 'solut'], ['pipelin', 'involv', 'close', 'deal', 'specif', 'solut', 'attribut', 'valu', 'particip'], ['take', 'pipelin', 'context', 'mean'], ['meet', 'class', 'identifi', 'question', 'want', 'custom', 'question', 'talk', 'send', 'survey', 'respons', 'rate'], ['finish', 'wednesday', 'night'], ['saturday', 'night', 'sketch', 'paper', 'wirefram', 'googl', 'sheet', 'envis', 'product', 'look', 'like', 'draw'], ['write', 'blog', 'post'], ['want', 'stab', 'note', 'onlin'], ['assign', 'tomorrow', 'night', 'start', 'work', 'consensus'], ['wait', 'justin', 'weren', 'base', 'info', 'present', 'class'], ['ahhh'], ['wait', 'item', 'base', 'class'], ['mix', 'date', 'free', 'weekend', 'dentist', 'jersey'], ['question', 'sketch', 'blog', 'post'], ['blog', 'post'], ['contribut', 'question', 'sketch'], ['sound', 'good'], ['compil', 'question', 'pick', 'best', 'prof', 'give', 'note', 'class', 'import', 'topic'], ['upload', 'lectur', 'note', 'blog', 'post', 'refer'], ['upload', 'note', 'googl', 'sale', 'team', 'interview'], ['clean', 'question', 'custom'], ['modifi', 'rachel', 'powerpoint', 'littl', 'pitch', 'look', 'like'], ['search', 'linkedin', 'go', 'send', 'messag', 'peopl', 'certain', 'thing'], ['connect', 'peopl', 'tri', 'talk', 'know', 'peopl', 'connect', 'peopl', 'know'], ['send', 'messag', 'link', 'usual', 'connect'], ['peopl', 'send', 'messag', 'connect', 'skip', 'overlap'], ['one', 'repli', 'think', 'previous', 'connect'], ['thank', 'inform'], ['question', 'requir', 'connect', 'send', 'messag', 'linkedin', 'messag', 'talk', 'send', 'attach', 'think', 'good', 'practic'], ['avail', 'meet', 'sunday', 'hangout'], ['person', 'think', 'connect', 'good', 'idea', 'send', 'wouldn', 'thing'], ['meet'], ['start', 'competit', 'analysi', 'mintyy', 'drive'], ['thank', 'clarif', 'meet'], ['go', 'write', 'user', 'stori', 'today', 'turn', 'help', 'competit', 'analysi', 'know'], ['work', 'homework', 'finish', 'earli', 'summar', 'inform', 'potenti', 'competitor'], ['awesom', 'need', 'competitor', 'market', 'size', 'trend', 'analysi'], ['look'], ['go', 'final', 'cold', 'messag', 'send', 'tomorrow', 'meet', 'right'], ['cold', 'messag', 'mean', 'one', 'discuss', 'tuesday', 'meet'], ['one', 'work'], ['sure', 'think', 'good', 'work', 'unsur', 'detail'], ['send', 'invit', 'linkedin', 'send', 'effect'], ['linkedin', 'accept', 'invit', 'go', 'final', 'cold', 'messag', 'tomorrow', 'send', 'materi', 'wait', 'tomorrow'], ['materi', 'send'], ['upload', 'page', 'mock', 'littl', 'modif'], ['sure', 'talk', 'peopl', 'connect', 'soon', 'possibl', 'hope', 'impati'], ['think', 'fine'], ['good', 'know'], ['plan', 'meet'], ['piazza', 'post', 'need', 'meet', 'time', 'appear', 'monday', 'tuesday', 'wednesday', 'prefer'], ['equal', 'work', 'remot'], ['upcom', 'week'], ['yeah', 'probabl', 'skip'], ['know'], ['tuesday', 'best', 'possibl'], ['leav', 'tuesday', 'night'], ['class', 'think'], ['right'], ['meet', 'today', 'hangout', 'reserv', 'room', 'time'], ['cool', 'possibl', 'like', 'leav'], ['urgent', 'import'], ['sound', 'good', 'doabl'], ['problem', 'like', 'leav', 'group', 'meet'], ['sound', 'good', 'today', 'talk', 'equiti', 'mockup'], ['mintyy', 'logo', 'creat', 'medium', 'post', 'blog'], ['ask', 'logo', 'think', 'mintyy', 'logo'], ['sister', 'graphic', 'design', 'ask', 'help', 'logo', 'sure', 'time', 'blog', 'post', 'come'], ['meet'], ['thank', 'meet', 'week', 'plan'], ['focus', 'deal', 'eval', 'wow', 'professor', 'research', 'evalu', 'skill', 'deal', 'ethan', 'deal', 'justin', 'deal', 'rachel', 'ryan'], ['reflect', 'commit', 'opportun', 'cost', 'compani', 'equiti', 'sheet', 'sunday'], ['continu', 'build', 'list', 'sale', 'manag', 'sdrs', 'slack', 'channel', 'linkedin', 'useorca', 'facebook', 'linkedin'], ['solidifi', 'final', 'mockup', 'improv', 'appear', 'sunday', 'get', 'incorpor', 'inform', 'sunday'], ['deal', 'eval', 'question', 'go', 'integr', 'answer', 'rachel'], ['rachel', 'wonder', 'number', 'rais', 'month', 'visitor', 'lambdatest'], ['number', 'crunchbas'], ['agre', 'thing', 'good', 'question', 'add'], ['check', 'lambdatest', 'deal', 'evalu'], ['midnight', 'coursework', 'care', 'submit'], ['good', 'submit', 'wait', 'peopl'], ['check', 'meet', 'time', 'week', 'confirm'], ['sell', 'exist', 'solut', 'treat', 'peopl', 'custom', 'want', 'close', 'treat', 'custom', 'peopl', 'want', 'know', 'natur', 'opportun', 'appear', 'valu', 'connect'], ['sound', 'great', 'ryan'], ['meet', 'soon', 'possibl', 'decid', 'go', 'present', 'tomorrow'], ['yeah', 'when', 'everyon', 'free'], ['meet', 'tonight', 'feel', 'free', 'meet'], ['meet', 'tonight', 'tomorrow'], ['meet', 'today', 'tomorrow', 'pretti', 'anytim'], ['tonight', 'okay'], ['california', 'fli', 'tomorrow', 'meet', 'tonight', 'hangout'], ['okay', 'meet', 'tonight', 'hangout'], ['good', 'time'], ['work'], ['later', 'earlier'], ['think'], ['good'], ['sound', 'good'], ['lose', 'voic', 'hard', 'hear', 'hope', 'tomorrow', 'night'], ['good'], ['minut'], ['store', 'contact'], ['good', 'resourc'], ['link', 'enterpris', 'network'], ['think', 'generat', 'content'], ['believ', 'major', 'benefit', 'user', 'input', 'content', 'effici', 'communic', 'network', 'better', 'separ', 'person', 'employe', 'achiev', 'mean', 'worri', 'sound', 'like', 'brag', 'share', 'achiev', 'go', 'leav', 'impress', 'superior', 'teammat'], ['talk', 'sell'], ['goldman', 'sach'], ['valu', 'prop', 'think'], ['think', 'rachel', 'say', 'valu', 'proposit'], ['rachel', 'true', 'goldman', 'assum', 'appli', 'googl', 'term', 'network'], ['similar', 'hear'], ['today', 'line', 'readi', 'meet', 'tomorrow'], ['check', 'scienc', 'engin', 'librari', 'room', 'glass', 'door', 'sure', 'sound', 'insul', 'effect'], ['better', 'mockup', 'mention', 'chrome', 'extens', 'aspect', 'thought', 'critiqu'], ['join', 'channel'], ['join', 'channel'], ['join', 'channel'], ['join', 'channel'], ['join', 'channel'], ['know', 'user', 'name', 'collabor', 'repo', 'basic', 'static', 'page', 'bucket', 'start', 'repo', 'file'], ['lvrunda'], ['channel', 'purpos', 'channel', 'discuss', 'develop', 'work'], ['jskimmon'], ['edunn'], ['join', 'channel'], ['join', 'channel'], ['join', 'channel'], ['join', 'channel'], ['join', 'channel'], ['meet', 'today', 'experi', 'automat', 'extract', 'slack', 'messag', 'histori', 'probabl', 'jupyt', 'python', 'notebook', 'abl', 'upload', 'slack', 'msgs', 'moment'], ['email', 'dropbox', 'market', 'research', 'pay', 'hour', 'person', 'focus', 'group', 'qualifi'], ['peopl', 'feedback'], ['rachel', 'link', 'specif'], ['collat', 'list', 'question', 'send', 'email', 'random', 'lead'], ['think', 'collat', 'list'], ['clarifi', 'mean', 'short', 'list', 'question', 'want', 'interact', 'long', 'ideal', 'min', 'respond'], ['will', 'meet', 'person', 'min', 'like', 'prof', 'say'], ['schedul', 'send', 'messag'], ['best', 'chanc', 'respons', 'believ'], ['messag', 'mean', 'email'], ['decent', 'luck', 'linkedin'], ['quick', 'googl', 'form', 'question', 'send', 'peopl', 'abl', 'question', 'close', 'one', 'googl', 'drive'], ['okay', 'know', 'guy', 'improv', 'know'], ['question', 'bank', 'folder', 'lift', 'question', 'relev'], ['question', 'region', 'compani'], ['startup', 'york', 'compani', 'email'], ['intern', 'cost', 'money', 'time', 'zone'], ['compani'], ['lunch', 'time'], ['possibl', 'worri'], ['call', 'kind', 'hang'], ['know', 'cold', 'mean'], ['thank', 'advic'], ['haha', 'yeah', 'want'], ['includ', 'columbia', 'websit', 'columbia', 'busi', 'startup', 'webpag'], ['help', 'thinking_fac'], ['approach', 'student', 'place', 'say', 'columbia', 'student', 'startup', 'project', 'china'], ['wasn', 'interest', 'want', 'leav'], ['guess', 'help'], ['okay', 'call', 'email'], ['sure'], ['compani', 'leav', 'phone', 'number', 'email'], ['life'], ['googl', 'sale', 'team', 'hope', 'happen'], ['awesom'], ['say', 'mean', 'right'], ['sound', 'nice'], ['send', 'email'], ['think', 'better'], ['know', 'help', 'differ', 'person', 'pick', 'abl', 'help', 'better'], ['call', 'founder', 'number', 'websit'], ['guess', 'person'], ['say', 'couldn', 'talk', 'right', 'ask', 'later'], ['hour'], ['record', 'result'], ['call', 'result', 'spreadsheet', 'directori', 'feel', 'free', 'think', 'format', 'help'], ['compani', 'number', 'custom', 'servic', 'number', 'send', 'email'], ['good', 'feedback', 'googl', 'employe', 'process', 'littl', 'complic', 'sell', 'exist', 'custom', 'good', 'stuff', 'share', 'class', 'tomorro'], ['sign', 'zoominfo', 'guy', 'method', 'get', 'contact', 'info', 'busi', 'tri', 'linkedin', 'right', 'haven', 'see', 'email', 'phone', 'number', 'directori'], ['crunchbas', 'link', 'contact', 'info', 'scroll'], ['sale', 'compani', 'info', 'compani', 'type', 'email'], ['yeah', 'work', 'address', 'founder'], ['linkedin', 'zoominfo', 'work'], ['alright', 'ask', 'buy', 'symphoni', 'bunch', 'folk', 'corpor', 'level', 'final', 'decis', 'call', 'corpor', 'strategi', 'team', 'handl', 'logist', 'googl', 'corpor', 'strategi', 'sure', 'peopl', 'team', 'role', 'compani', 'want', 'engag'], ['shall', 'deal', 'eval', 'prefer'], ['think', 'ask', 'email'], ['option', 'volunt', 'compani', 'interest', 'evalu'], ['sound', 'good'], ['time', 'hangout'], ['think'], ['draft', 'propos', 'document', 'mintyy', 'folder', 'case', 'arriv', 'time'], ['thank', 'ryan'], ['strang', 'think', 'salesforc', 'featur'], ['speak', 'friend', 'sale', 'process', 'organ', 'compani', 'write', 'note', 'guy', 'want', 'like', 'googl', 'drive', 'compil', 'feedback', 'differ', 'compani'], ['mean', 'pluggabl', 'data', 'analysi'], ['sorri', 'quiet', 'week', 'bog', 'coupl', 'problem', 'set', 'tri', 'connect', 'sale', 'manag', 'mayb', 'start', 'ask', 'question', 'clear', 'view', 'product'], ['mean', 'integr', 'salesforc'], ['analyz', 'data', 'perform', 'salespeopl'], ['yeah', 'option', 'like', 'integr', 'extern', 'sourc', 'data', 'restrict', 'pick', 'direct'], ['go', 'meet', 'tomorrow'], ['respons', 'form', 'send', 'email'], ['meet', 'tomorrow', 'free', 'think', 'googl', 'hangout', 'meet'], ['group', 'meet', 'tomorrow', 'hour'], ['free', 'anytim'], ['necessarili', 'hour', 'work', 'best'], ['idea', 'judg', 'hard'], ['wait', 'idea', 'meet', 'tomorrow', 'hangout'], ['cool', 'volunt', 'autom', 'test', 'want', 'bash', 'idea'], ['know', 'want', 'help'], ['send', 'version', 'submit', 'case', 'want', 'includ'], ['ethan', 'learn', 'connect'], ['yeah'], ['improv'], ['search', 'wasn', 'great', 'employe', 'content', 'wasn', 'default', 'sort', 'comment'], ['blog', 'style', 'post'], ['notif', 'comment', 'start'], ['multipl', 'channel', 'abil', 'creat', 'group'], ['group', 'channel', 'tag'], ['chart'], ['integr'], ['way', 'improv', 'write', 'blog', 'question', 'poll', 'thing', 'forget'], ['mean', 'longer', 'think', 'post'], ['talk', 'payperk', 'today', 'go', 'type', 'note', 'stuff', 'basic', 'pluggabl', 'data', 'analysi', 'sound', 'good', 'want', 'easi', 'integr', 'email', 'mention', 'probabl', 'phone', 'call', 'remind', 'salesperson', 'identifi', 'compani', 'regret', 'have', 'histori', 'past', 'communic', 'compani', 'interact', 'differ', 'busi', 'jake', 'happi', 'talk', 'follow', 'want', 'know', 'say', 'send', 'pitch', 'present', 'semest'], ['weekend', 'finalis', 'question', 'email', 'rest', 'compani', 'startup', 'webpag', 'mayb', 'look', 'past', 'call', 'discoveri', 'brainstorm', 'purpos'], ['work', 'wirefram', 'draw', 'tomorrow'], ['meet', 'hope', 'happen'], ['form', 'detail', 'team', 'idea'], ['say', 'team'], ['yeah', 'go', 'bring', 'meet', 'havent', 'rachel', 'easi'], ['tell', 'meet', 'class'], ['final', 'team', 'member', 'form', 'haven'], ['sound', 'good', 'peopl', 'express'], ['want', 'talk', 'background', 'skillset', 'talk'], ['work', 'necessarili', 'need', 'team', 'member', 'agre', 'specif', 'member', 'help', 'bring'], ['meet', 'background', 'skillset', 'clarifi', 'idea', 'interest', 'meet', 'meet', 'discuss', 'necessari'], ['think', 'tool', 'mention', 'useorca'], ['autom', 'linkedin', 'reachout', 'titl'], ['think', 'slack', 'advis', 'channel', 'like', 'good', 'idea'], ['join', 'channel'], ['channel', 'purpos', 'identifi', 'competitor', 'product', 'uniqu'], ['join', 'channel'], ['join', 'channel'], ['salesforc', 'data', 'drive', 'featur', 'attribut', 'valu'], ['check', 'zoho', 'littl', 'insight', 'attribut', 'valu', 'deal', 'compon'], ['think', 'nich', 'optim', 'process', 'manag', 'tool'], ['problem', 'see', 'market', 'research'], ['sdrs', 'lead', 'matter'], ['sdrs', 'focus', 'short', 'term', 'benefit'], ['caus', 'sdrs', 'stake', 'result', 'lead'], ['hard', 'larg', 'custom', 'recogniz', 'brand', 'compani', 'afford', 'salesforc', 'turn', 'excel', 'googl', 'app'], ['number', 'smaller', 'softwar', 'base', 'compani', 'organ', 'sale', 'reli', 'sale', 'pipelin', 'salesforc', 'smaller', 'softwar', 'base', 'compani', 'reli', 'network', 'lieu', 'afford', 'salesforc'], ['send', 'email', 'wonder', 'send', 'email', 'compani', 'need', 'past', 'email', 'address'], ['messag', 'send'], ['compani', 'sale', 'survey'], ['form'], ['content', 'follow'], ['ryan', 'columbia', 'student', 'compani', 'columbia', 'busi', 'school', 'startup', 'work', 'project', 'better', 'incentiv', 'sale', 'team', 'seek', 'advic', 'potenti', 'custom', 'mind', 'complet', 'survey', 'thank'], ['sincer'], ['ryan'], ['skip', 'obvious', 'short', 'term', 'sale', 'food', 'startup', 'think', 'target', 'right'], ['sell', 'compani', 'long', 'compani'], ['agre', 'harm', 'contact', 'compani', 'email', 'research', 'requir', 'answer', 'survey', 'question'], ['send', 'email', 'like', 'accept', 'right'], ['yeah', 'case', 'vari', 'size', 'data', 'especi', 'depend', 'potenti', 'custom'], ['ideal', 'phone', 'couldn', 'reach', 'schedul', 'want', 'email', 'survey', 'issu', 'survey', 'respons', 'date', 'histor'], ['mean', 'send', 'email', 'like', 'clear', 'show', 'send', 'email', 'compani', 'wonder', 'good', 'send', 'email', 'direct'], ['social', 'media', 'app', 'send', 'survey', 'link', 'group', 'send', 'general', 'messag', 'friend', 'instead', 'direct', 'ask', 'will', 'survey', 'respons', 'rate', 'lower'], ['email', 'type', 'communic', 'tool', 'wonder', 'similar', 'convent'], ['will', 'time', 'address', 'compani', 'compani', 'better'], ['thank', 'advic'], ['add', 'question', 'question'], ['quick', 'read', 'sale', 'rep', 'think'], ['mention', 'recommend', 'price', 'negoti', 'use', 'teach', 'sale', 'rep'], ['timelin', 'displac', 'think', 'depend', 'sale', 'manag', 'decid'], ['clarifi', 'think', 'entir', 'sale', 'team', 'autom'], ['sorri', 'run', 'late', 'later'], ['say', 'sale', 'team', 'manag', 'think', 'have', 'account', 'execut', 'handl', 'lead', 'start', 'finish', 'function', 'today', 'substitut', 'tech'], ['head', 'butler', 'abl', 'meet'], ['join', 'channel'], ['join', 'channel'], ['speak', 'professor', 'advis', 'contact', 'sale', 'oper', 'team', 'sale', 'manag', 'sdrs', 'mention', 'industri', 'trend', 'sale', 'manag', 'sale', 'oper', 'team', 'look', 'displac', 'sdrs', 'tech', 'list', 'preliminari', 'idea', 'say', 'lead', 'forecast', 'viabl', 'space', 'look', 'overrun', 'mean', 'includ', 'sale', 'manag', 'sale', 'oper', 'team', 'market', 'research', 'mean', 'focus', 'gamifi', 'train', 'data', 'process', 'lead', 'forecast', 'tomorrow', 'contact', 'survey', 'compani', 'point', 'conduct', 'market', 'research', 'experi', 'game', 'byproduct', 'generat', 'train', 'data', 'excel', 'sheet'], ['awesom', 'valuabl', 'info', 'definit', 'motiv', 'need', 'come', 'question', 'client', 'figur', 'sort', 'product', 'provid'], ['confirm', 'come', 'question', 'tonight', 'use'], ['great', 'work'], ['look', 'like', 'awesom', 'inform', 'check', 'tonight'], ['think', 'question', 'great', 'idea', 'go', 'come', 'tonight', 'send'], ['wonder', 'purpos', 'round', 'call', 'tri'], ['product', 'market'], ['potenti', 'design', 'partner', 'featur', 'product', 'need', 'includ', 'develop', 'idea', 'product', 'need', 'look', 'like', 'design', 'standpoint'], ['learn', 'sale', 'process', 'compani', 'need', 'pain', 'point'], ['half', 'great', 'bonus', 'think', 'home', 'work', 'outlin', 'soon'], ['that', 'great', 'insight', 'rachel', 'your', 'refer', 'predict', 'qualiti', 'lead', 'separ', 'lead', 'class', 'base', 'one', 'promis', 'refer'], ['valu', 'prop', 'need', 'cold', 'call'], ['add', 'googl', 'drive'], ['say', 'complet', 'decent', 'guidelin'], ['feel', 'free', 'modifi'], ['sdrs', 'thought', 'displac', 'timelin', 'feel', 'tech', 'time', 'compani', 'sdrs', 'like', 'time', 'industri', 'collect', 'adopt', 'tech', 'wonder', 'decent', 'predict', 'timelin', 'look', 'capit', 'current', 'industri', 'ineffici', 'sdrs', 'case', 'transform', 'tech', 'like', 'time', 'arent', 'look', 'creat', 'tech', 'agnost', 'product', 'think', 'gamifi', 'process', 'use', 'hand', 'adopt', 'tech', 'happen', 'speak', 'sdrs', 'like', 'year', 'agre', 'best', 'method', 'avoid', 'revolv', 'product'], ['salesforc', 'blog', 'articl', 'screenshot', 'work', 'talk', 'call', 'einstein'], ['yeah', 'suck', 'stick', 'idea', 'think', 'think'], ['base', 'review', 'peopl', 'say', 'requir', 'setup', 'tech', 'knowledg', 'einstein', 'miss', 'benefit', 'gamif', 'feedback', 'teach', 'aspect', 'look', 'trend', 'custom', 'base', 'salespeopl', 'sdrs'], ['custom', 'type', 'think', 'vari', 'small', 'larg', 'busi', 'target', 'size', 'valu', 'tool', 'aren', 'larg', 'million', 'incumb', 'softwar', 'like', 'salesforc'], ['expect', 'salesforc', 'cost'], ['size', 'employe', 'compani'], ['direct', 'refer', 'number'], ['small', 'medium', 'larg', 'hard', 'quantifi'], ['compani', 'peopl'], ['yeah', 'size'], ['mayb', 'ultim', 'target', 'larg', 'need', 'matur', 'product', 'custom'], ['sure', 'think', 'compani', 'need', 'concret', 'evid', 'adopt', 'product'], ['professor', 'ask', 'differenti'], ['thought', 'differenti'], ['easier', 'deploy', 'know', 'practic'], ['embrac', 'trend', 'mention'], ['replac'], ['tool', 'data', 'drive', 'approach', 'thing', 'deal', 'partner', 'email', 'respond', 'base', 'baromet', 'determin', 'follow', 'process', 'move', 'recommend', 'feedback', 'regard', 'respons', 'time', 'time', 'week', 'number', 'hour', 'correspond', 'recommend', 'prove', 'lead', 'faster', 'correspond'], ['respons', 'email', 'think', 'promis', 'direct'], ['streak'], ['okay', 'upload', 'work', 'question'], ['join', 'channel'], ['join', 'channel'], ['join', 'channel'], ['join', 'channel'], ['join', 'channel'], ['email', 'hack', 'better', 'respons', 'check', 'cold', 'email', 'strategi', 'work', 'sale', 'toolkit', 'individu', 'contributor', 'sale', 'prospect', 'folder'], ['individu', 'email', 'founder', 'ctos', 'compani', 'zoominfo', 'sign', 'free', 'trial'], ['detail', 'question', 'shadow', 'phone', 'look', 'sale', 'qualif', 'framework', 'bant', 'gpctba', 'sale', 'prospect', 'folder'], ['use', 'inform'], ['join', 'channel'], ['join', 'channel'], ['join', 'channel'], ['join', 'channel'], ['join', 'channel'], ['exampl', 'book', 'compani', 'name', 'ryppl', 'provid', 'perform', 'feedback', 'facebook', 'eventu', 'buy', 'salesforc'], ['think', 'show', 'thing', 'gamif', 'feasibl', 'salesforc', 'gamif', 'featur'], ['think', 'cours', 'univers', 'interest', 'exampl', 'gamif', 'long', 'term', 'goal', 'month', 'semest', 'month', 'academ', 'year', 'goal', 'cours', 'align', 'person', 'one', 'cours', 'graduat', 'engag', 'topic', 'futur', 'peopl', 'work', 'hard', 'cours'], ['opinion', 'cours', 'period', 'quantit', 'evalu', 'person', 'use', 'perform', 'cours', 'help', 'career', 'resum', 'internship'], ['analog', 'incentiv', 'sdrs', 'mayb', 'data', 'evalu', 'team', 'peopl', 'call', 'lower', 'respons', 'rate', 'lower', 'outcom', 'frustrat', 'cold', 'call', 'cheer', 'learn', 'averag', 'respons', 'rate', 'high', 'team'], ['sale', 'manag', 'data', 'guid', 'sale', 'team', 'accord'], ['feel', 'salesforc', 'resourc', 'sale', 'manag', 'limit', 'need', 'shadow'], ['sell', 'dream', 'anticip', 'sdrs', 'exampl', 'goal', 'promot', 'statist', 'promot', 'help', 'motiv', 'goal', 'better', 'motiv', 'exampl', 'better', 'tell', 'person', 'increas', 'chanc', 'achiev', 'goal'], ['idea', 'gamif', 'case', 'opinion', 'give', 'behavior', 'point', 'align', 'point', 'statist', 'person', 'goal', 'compani', 'goal', 'like', 'creat', 'gradient', 'data', 'peopl', 'follow', 'direct'], ['show', 'sale', 'trend', 'idea', 'inform', 'resourc'], ['go', 'insight', 'salesforc', 'doesnt', 'tuesday'], ['sure', 'thank'], ['peopl', 'start', 'discuss', 'game', 'round', 'play', 'inform', 'compani'], ['rule'], ['allow', 'method', 'contact', 'email', 'phone'], ['target', 'custom', 'compani', 'ideal', 'york', 'size'], ['point'], ['posit', 'respons'], ['point', 'email', 'get', 'respons'], ['point', 'warm', 'connect'], ['point', 'cold', 'connect'], ['goal', 'compani', 'inform', 'point'], ['goal', 'compani', 'data', 'log', 'point'], ['track', 'point', 'result', 'compani', 'spreadsheet', 'call', 'round', 'googl', 'drive'], ['need', 'help', 'come', 'incent', 'game', 'mintyy', 'shirt', 'jacket', 'amazon', 'gift', 'card'], ['round', 'tuesday'], ['book', 'gamif'], ['author', 'kevin', 'werbach'], ['work', 'look', 'campus', 'hour', 'meet', 'tonight'], ['short', 'meet', 'class', 'discuss', 'game', 'round']]\n"
     ]
    }
   ],
   "source": [
    "from nltk import word_tokenize\n",
    "\n",
    "processed_msgs = []\n",
    "\n",
    "for l in open('../data/general_text.txt', 'r'):\n",
    "    l = l.strip()\n",
    "    p = preprocess(l)\n",
    "    if p:\n",
    "        processed_msgs.append(p)\n",
    "    \n",
    "# possible alternate way of tokenizing data\n",
    "# for l in open('general_text.txt', 'r'):\n",
    "#     l = l.strip()\n",
    "#     l = l.lower()\n",
    "#     p = word_tokenize(l)\n",
    "#     if p:\n",
    "#         processed_msgs.append(p)\n",
    "\n",
    "print(processed_msgs)"
   ]
  },
  {
   "cell_type": "markdown",
   "metadata": {},
   "source": [
    "## Experimentation with K Means Clustering"
   ]
  },
  {
   "cell_type": "markdown",
   "metadata": {},
   "source": [
    "First I will create a dictionary mapping each preprocessed word to a numeric token."
   ]
  },
  {
   "cell_type": "code",
   "execution_count": 30,
   "metadata": {},
   "outputs": [],
   "source": [
    "dictionary = gensim.corpora.Dictionary(processed_msgs)"
   ]
  },
  {
   "cell_type": "markdown",
   "metadata": {},
   "source": [
    "This next line is optional and its purpose is to filter out words which are either too rare or too common to be significant when considering the topics."
   ]
  },
  {
   "cell_type": "code",
   "execution_count": 31,
   "metadata": {},
   "outputs": [
    {
     "name": "stdout",
     "output_type": "stream",
     "text": [
      "Dictionary(1396 unique tokens: ['background', 'evolut', 'idea', 'slide', 'right']...)\n"
     ]
    }
   ],
   "source": [
    "dictionary.filter_extremes(no_below=0, no_above=0.9, keep_n= 100000)\n",
    "\n",
    "print(dictionary)"
   ]
  },
  {
   "cell_type": "markdown",
   "metadata": {},
   "source": [
    "I decided to try the Word2Vec embedding to create a vector representation of each word found in the processed messages.\n",
    "\n",
    "More on that here: https://skymind.ai/wiki/word2vec"
   ]
  },
  {
   "cell_type": "markdown",
   "metadata": {},
   "source": [
    "## Creating the Word2Vec Model"
   ]
  },
  {
   "cell_type": "code",
   "execution_count": 33,
   "metadata": {},
   "outputs": [],
   "source": [
    "from gensim.models import Word2Vec"
   ]
  },
  {
   "cell_type": "code",
   "execution_count": 34,
   "metadata": {},
   "outputs": [],
   "source": [
    "model = Word2Vec(processed_msgs, min_count=1)"
   ]
  },
  {
   "cell_type": "code",
   "execution_count": 13,
   "metadata": {},
   "outputs": [],
   "source": [
    "# save model\n",
    "# model.save('Word2Vec_model.bin')"
   ]
  },
  {
   "cell_type": "code",
   "execution_count": 14,
   "metadata": {},
   "outputs": [],
   "source": [
    "# load model\n",
    "# new_model = Word2Vec.load('Word2Vec_model.bin')\n",
    "# print(new_model)"
   ]
  },
  {
   "cell_type": "markdown",
   "metadata": {},
   "source": [
    "Next, I will use the K Means Clustering algorithm from the nltk package to see which topics are clustering well thus far.\n",
    "\n",
    "http://www.pitt.edu/~naraehan/presentation/word2vec-try.html"
   ]
  },
  {
   "cell_type": "code",
   "execution_count": 35,
   "metadata": {},
   "outputs": [],
   "source": [
    "from nltk.cluster import KMeansClusterer"
   ]
  },
  {
   "cell_type": "code",
   "execution_count": 36,
   "metadata": {},
   "outputs": [
    {
     "name": "stderr",
     "output_type": "stream",
     "text": [
      "/Users/JoeSkimmons/Desktop/spring2019/Startup/nlp_experiments/venv/lib/python3.6/site-packages/ipykernel_launcher.py:1: DeprecationWarning: Call to deprecated `__getitem__` (Method will be removed in 4.0.0, use self.wv.__getitem__() instead).\n",
      "  \"\"\"Entry point for launching an IPython kernel.\n"
     ]
    }
   ],
   "source": [
    "X = model[model.wv.vocab]\n",
    "\n",
    "NUM_CLUSTERS=5\n",
    "kclusterer = KMeansClusterer(NUM_CLUSTERS, distance=nltk.cluster.util.cosine_distance, repeats=25)\n",
    "assigned_clusters = kclusterer.cluster(X, assign_clusters=True)"
   ]
  },
  {
   "cell_type": "code",
   "execution_count": 37,
   "metadata": {},
   "outputs": [],
   "source": [
    "from collections import defaultdict"
   ]
  },
  {
   "cell_type": "code",
   "execution_count": 38,
   "metadata": {},
   "outputs": [],
   "source": [
    "words = list(model.wv.vocab)\n",
    "cluster_dict = defaultdict(lambda: [])\n",
    "for i, word in enumerate(words):\n",
    "    cluster_dict[assigned_clusters[i]].append(word)"
   ]
  },
  {
   "cell_type": "markdown",
   "metadata": {},
   "source": [
    "Getting a sense of what words are in each cluster"
   ]
  },
  {
   "cell_type": "code",
   "execution_count": 39,
   "metadata": {},
   "outputs": [
    {
     "name": "stdout",
     "output_type": "stream",
     "text": [
      "4\n",
      "['background', 'slide', 'idea', 'think', 'right', 'hour', 'problem', 'solut', 'plan', 'minut']\n",
      "2\n",
      "['evolut', 'havent', 'mess', 'dont', 'accomplish', 'smiley', 'auto', 'hashtag', 'meaning', 'doabl']\n",
      "3\n",
      "['serv', 'ventur', 'preval', 'option', 'depart', 'sit', 'stimul', 'challeng', 'that', 'accur']\n",
      "1\n",
      "['employ', 'youv', 'satisfi', 'confidenti', 'true', 'meaningless', 'customiz', 'extent', 'topic', 'depend']\n",
      "0\n",
      "['visibl', 'there', 'summer', 'relat', 'angl', 'closer', 'transpar', 'exact', 'unrel', 'harder']\n"
     ]
    }
   ],
   "source": [
    "for key, word_li in cluster_dict.items():\n",
    "    print(key)\n",
    "    print(word_li[:10])"
   ]
  },
  {
   "cell_type": "markdown",
   "metadata": {},
   "source": [
    "Attempting to show correlation with PCA, unsignificant now, will return after trying the google model"
   ]
  },
  {
   "cell_type": "code",
   "execution_count": 45,
   "metadata": {},
   "outputs": [
    {
     "ename": "SyntaxError",
     "evalue": "invalid syntax (<ipython-input-45-030cfd460043>, line 1)",
     "output_type": "error",
     "traceback": [
      "\u001b[0;36m  File \u001b[0;32m\"<ipython-input-45-030cfd460043>\"\u001b[0;36m, line \u001b[0;32m1\u001b[0m\n\u001b[0;31m    pip install matplotlib\u001b[0m\n\u001b[0m              ^\u001b[0m\n\u001b[0;31mSyntaxError\u001b[0m\u001b[0;31m:\u001b[0m invalid syntax\n"
     ]
    }
   ],
   "source": [
    "from sklearn.decomposition import PCA\n",
    "from matplotlib import pyplot"
   ]
  },
  {
   "cell_type": "code",
   "execution_count": 42,
   "metadata": {
    "scrolled": true
   },
   "outputs": [
    {
     "name": "stderr",
     "output_type": "stream",
     "text": [
      "/Users/JoeSkimmons/Desktop/spring2019/Startup/nlp_experiments/venv/lib/python3.6/site-packages/ipykernel_launcher.py:4: DeprecationWarning: Call to deprecated `__getitem__` (Method will be removed in 4.0.0, use self.wv.__getitem__() instead).\n",
      "  after removing the cwd from sys.path.\n"
     ]
    },
    {
     "ename": "NameError",
     "evalue": "name 'pyplot' is not defined",
     "output_type": "error",
     "traceback": [
      "\u001b[0;31m---------------------------------------------------------------------------\u001b[0m",
      "\u001b[0;31mNameError\u001b[0m                                 Traceback (most recent call last)",
      "\u001b[0;32m<ipython-input-42-36e08fceba58>\u001b[0m in \u001b[0;36m<module>\u001b[0;34m\u001b[0m\n\u001b[1;32m      7\u001b[0m \u001b[0;34m\u001b[0m\u001b[0m\n\u001b[1;32m      8\u001b[0m \u001b[0;31m# create a scatter plot of the projection\u001b[0m\u001b[0;34m\u001b[0m\u001b[0;34m\u001b[0m\u001b[0m\n\u001b[0;32m----> 9\u001b[0;31m \u001b[0mpyplot\u001b[0m\u001b[0;34m.\u001b[0m\u001b[0mscatter\u001b[0m\u001b[0;34m(\u001b[0m\u001b[0mresult\u001b[0m\u001b[0;34m[\u001b[0m\u001b[0;34m:\u001b[0m\u001b[0;34m,\u001b[0m \u001b[0;36m0\u001b[0m\u001b[0;34m]\u001b[0m\u001b[0;34m,\u001b[0m \u001b[0mresult\u001b[0m\u001b[0;34m[\u001b[0m\u001b[0;34m:\u001b[0m\u001b[0;34m,\u001b[0m \u001b[0;36m1\u001b[0m\u001b[0;34m]\u001b[0m\u001b[0;34m)\u001b[0m\u001b[0;34m\u001b[0m\u001b[0m\n\u001b[0m\u001b[1;32m     10\u001b[0m \u001b[0mwords\u001b[0m \u001b[0;34m=\u001b[0m \u001b[0mlist\u001b[0m\u001b[0;34m(\u001b[0m\u001b[0mmodel\u001b[0m\u001b[0;34m.\u001b[0m\u001b[0mwv\u001b[0m\u001b[0;34m.\u001b[0m\u001b[0mvocab\u001b[0m\u001b[0;34m)\u001b[0m\u001b[0;34m\u001b[0m\u001b[0m\n\u001b[1;32m     11\u001b[0m \u001b[0;34m\u001b[0m\u001b[0m\n",
      "\u001b[0;31mNameError\u001b[0m: name 'pyplot' is not defined"
     ]
    }
   ],
   "source": [
    "# not useful yet but could be in the future\n",
    "\n",
    "# fit a 2d PCA model to the vectors\n",
    "X = model[model.wv.vocab]\n",
    "pca = PCA(n_components=2)\n",
    "result = pca.fit_transform(X)\n",
    "\n",
    "# create a scatter plot of the projection\n",
    "pyplot.scatter(result[:, 0], result[:, 1])\n",
    "words = list(model.wv.vocab)\n",
    "\n",
    "for i, word in enumerate(words):\n",
    "    pyplot.annotate(word, xy=(result[i, 0], result[i, 1]))\n",
    "pyplot.show()"
   ]
  },
  {
   "cell_type": "code",
   "execution_count": null,
   "metadata": {},
   "outputs": [],
   "source": []
  },
  {
   "cell_type": "markdown",
   "metadata": {},
   "source": [
    "## LDA Model"
   ]
  },
  {
   "cell_type": "code",
   "execution_count": 22,
   "metadata": {},
   "outputs": [
    {
     "ename": "ValueError",
     "evalue": "cannot compute LDA over an empty collection (no terms)",
     "output_type": "error",
     "traceback": [
      "\u001b[0;31m---------------------------------------------------------------------------\u001b[0m",
      "\u001b[0;31mValueError\u001b[0m                                Traceback (most recent call last)",
      "\u001b[0;32m<ipython-input-22-c9d2011eb7ba>\u001b[0m in \u001b[0;36m<module>\u001b[0;34m\u001b[0m\n\u001b[1;32m      5\u001b[0m                                    \u001b[0mid2word\u001b[0m \u001b[0;34m=\u001b[0m \u001b[0mdictionary\u001b[0m\u001b[0;34m,\u001b[0m\u001b[0;34m\u001b[0m\u001b[0m\n\u001b[1;32m      6\u001b[0m                                    \u001b[0mpasses\u001b[0m \u001b[0;34m=\u001b[0m \u001b[0;36m15\u001b[0m\u001b[0;34m,\u001b[0m\u001b[0;34m\u001b[0m\u001b[0m\n\u001b[0;32m----> 7\u001b[0;31m                                    workers = 2)\n\u001b[0m\u001b[1;32m      8\u001b[0m \u001b[0;34m\u001b[0m\u001b[0m\n\u001b[1;32m      9\u001b[0m \u001b[0;32mfor\u001b[0m \u001b[0midx\u001b[0m\u001b[0;34m,\u001b[0m \u001b[0mtopic\u001b[0m \u001b[0;32min\u001b[0m \u001b[0mlda_model\u001b[0m\u001b[0;34m.\u001b[0m\u001b[0mprint_topics\u001b[0m\u001b[0;34m(\u001b[0m\u001b[0;34m-\u001b[0m\u001b[0;36m1\u001b[0m\u001b[0;34m)\u001b[0m\u001b[0;34m:\u001b[0m\u001b[0;34m\u001b[0m\u001b[0m\n",
      "\u001b[0;32m~/Desktop/spring2019/Startup/nlp_experiments/venv/lib/python3.6/site-packages/gensim/models/ldamulticore.py\u001b[0m in \u001b[0;36m__init__\u001b[0;34m(self, corpus, num_topics, id2word, workers, chunksize, passes, batch, alpha, eta, decay, offset, eval_every, iterations, gamma_threshold, random_state, minimum_probability, minimum_phi_value, per_word_topics, dtype)\u001b[0m\n\u001b[1;32m    182\u001b[0m             \u001b[0mdecay\u001b[0m\u001b[0;34m=\u001b[0m\u001b[0mdecay\u001b[0m\u001b[0;34m,\u001b[0m \u001b[0moffset\u001b[0m\u001b[0;34m=\u001b[0m\u001b[0moffset\u001b[0m\u001b[0;34m,\u001b[0m \u001b[0meval_every\u001b[0m\u001b[0;34m=\u001b[0m\u001b[0meval_every\u001b[0m\u001b[0;34m,\u001b[0m \u001b[0miterations\u001b[0m\u001b[0;34m=\u001b[0m\u001b[0miterations\u001b[0m\u001b[0;34m,\u001b[0m\u001b[0;34m\u001b[0m\u001b[0m\n\u001b[1;32m    183\u001b[0m             \u001b[0mgamma_threshold\u001b[0m\u001b[0;34m=\u001b[0m\u001b[0mgamma_threshold\u001b[0m\u001b[0;34m,\u001b[0m \u001b[0mrandom_state\u001b[0m\u001b[0;34m=\u001b[0m\u001b[0mrandom_state\u001b[0m\u001b[0;34m,\u001b[0m \u001b[0mminimum_probability\u001b[0m\u001b[0;34m=\u001b[0m\u001b[0mminimum_probability\u001b[0m\u001b[0;34m,\u001b[0m\u001b[0;34m\u001b[0m\u001b[0m\n\u001b[0;32m--> 184\u001b[0;31m             \u001b[0mminimum_phi_value\u001b[0m\u001b[0;34m=\u001b[0m\u001b[0mminimum_phi_value\u001b[0m\u001b[0;34m,\u001b[0m \u001b[0mper_word_topics\u001b[0m\u001b[0;34m=\u001b[0m\u001b[0mper_word_topics\u001b[0m\u001b[0;34m,\u001b[0m \u001b[0mdtype\u001b[0m\u001b[0;34m=\u001b[0m\u001b[0mdtype\u001b[0m\u001b[0;34m\u001b[0m\u001b[0m\n\u001b[0m\u001b[1;32m    185\u001b[0m         )\n\u001b[1;32m    186\u001b[0m \u001b[0;34m\u001b[0m\u001b[0m\n",
      "\u001b[0;32m~/Desktop/spring2019/Startup/nlp_experiments/venv/lib/python3.6/site-packages/gensim/models/ldamodel.py\u001b[0m in \u001b[0;36m__init__\u001b[0;34m(self, corpus, num_topics, id2word, distributed, chunksize, passes, update_every, alpha, eta, decay, offset, eval_every, iterations, gamma_threshold, minimum_probability, random_state, ns_conf, minimum_phi_value, per_word_topics, callbacks, dtype)\u001b[0m\n\u001b[1;32m    439\u001b[0m \u001b[0;34m\u001b[0m\u001b[0m\n\u001b[1;32m    440\u001b[0m         \u001b[0;32mif\u001b[0m \u001b[0mself\u001b[0m\u001b[0;34m.\u001b[0m\u001b[0mnum_terms\u001b[0m \u001b[0;34m==\u001b[0m \u001b[0;36m0\u001b[0m\u001b[0;34m:\u001b[0m\u001b[0;34m\u001b[0m\u001b[0m\n\u001b[0;32m--> 441\u001b[0;31m             \u001b[0;32mraise\u001b[0m \u001b[0mValueError\u001b[0m\u001b[0;34m(\u001b[0m\u001b[0;34m\"cannot compute LDA over an empty collection (no terms)\"\u001b[0m\u001b[0;34m)\u001b[0m\u001b[0;34m\u001b[0m\u001b[0m\n\u001b[0m\u001b[1;32m    442\u001b[0m \u001b[0;34m\u001b[0m\u001b[0m\n\u001b[1;32m    443\u001b[0m         \u001b[0mself\u001b[0m\u001b[0;34m.\u001b[0m\u001b[0mdistributed\u001b[0m \u001b[0;34m=\u001b[0m \u001b[0mbool\u001b[0m\u001b[0;34m(\u001b[0m\u001b[0mdistributed\u001b[0m\u001b[0;34m)\u001b[0m\u001b[0;34m\u001b[0m\u001b[0m\n",
      "\u001b[0;31mValueError\u001b[0m: cannot compute LDA over an empty collection (no terms)"
     ]
    }
   ],
   "source": [
    "bow_corpus = [dictionary.doc2bow(doc) for doc in processed_msgs]\n",
    "\n",
    "lda_model =  gensim.models.LdaMulticore(bow_corpus, \n",
    "                                   num_topics = 5, \n",
    "                                   id2word = dictionary,                                    \n",
    "                                   passes = 15,\n",
    "                                   workers = 2)\n",
    "\n",
    "for idx, topic in lda_model.print_topics(-1):\n",
    "    print(\"Topic: {} \\nWords: {}\".format(idx, topic ))\n",
    "    print(\"\\n\")"
   ]
  },
  {
   "cell_type": "code",
   "execution_count": null,
   "metadata": {},
   "outputs": [],
   "source": []
  },
  {
   "cell_type": "code",
   "execution_count": null,
   "metadata": {},
   "outputs": [],
   "source": []
  }
 ],
 "metadata": {
  "kernelspec": {
   "display_name": "Python 3",
   "language": "python",
   "name": "python3"
  },
  "language_info": {
   "codemirror_mode": {
    "name": "ipython",
    "version": 3
   },
   "file_extension": ".py",
   "mimetype": "text/x-python",
   "name": "python",
   "nbconvert_exporter": "python",
   "pygments_lexer": "ipython3",
   "version": "3.6.0"
  }
 },
 "nbformat": 4,
 "nbformat_minor": 2
}
